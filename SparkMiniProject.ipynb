{
 "cells": [
  {
   "cell_type": "markdown",
   "metadata": {
    "application/vnd.databricks.v1+cell": {
     "cellMetadata": {
      "byteLimit": 2048000,
      "rowLimit": 10000
     },
     "inputWidgets": {},
     "nuid": "81097a94-e9fa-4050-b053-67dbdcc55a66",
     "showTitle": false,
     "title": ""
    }
   },
   "source": [
    "# Spark Mini Project - Youtube Trending Videos Dataset"
   ]
  },
  {
   "cell_type": "markdown",
   "metadata": {
    "application/vnd.databricks.v1+cell": {
     "cellMetadata": {
      "byteLimit": 2048000,
      "rowLimit": 10000
     },
     "inputWidgets": {},
     "nuid": "0a7e3b9f-5a67-437c-b50a-4c1cb0a7132a",
     "showTitle": false,
     "title": ""
    }
   },
   "source": [
    "## Project Aims"
   ]
  },
  {
   "cell_type": "markdown",
   "metadata": {
    "application/vnd.databricks.v1+cell": {
     "cellMetadata": {
      "byteLimit": 2048000,
      "rowLimit": 10000
     },
     "inputWidgets": {},
     "nuid": "87d30151-ab9b-4d59-a170-f7a7ac407a8d",
     "showTitle": false,
     "title": ""
    }
   },
   "source": [
    "This project explores a dataset containing information about YouTube trending videos and the dataset consists of a CSV file and a JSON file.The objective of this project is to perform data cleaning and perform data exploration using PySpark SQL in DataBricks. I aim to extract insights from the dataset and perform analysis on different aspects such as category popularity, engagement patterns, and trends and create insights that answer key business questions using data visualisations."
   ]
  },
  {
   "cell_type": "markdown",
   "metadata": {
    "application/vnd.databricks.v1+cell": {
     "cellMetadata": {
      "byteLimit": 2048000,
      "rowLimit": 10000
     },
     "inputWidgets": {},
     "nuid": "8b9d1be6-668e-41b5-bd7a-8fe5f71acd8a",
     "showTitle": false,
     "title": ""
    }
   },
   "source": [
    "## Installation and Imports"
   ]
  },
  {
   "cell_type": "markdown",
   "metadata": {
    "application/vnd.databricks.v1+cell": {
     "cellMetadata": {
      "byteLimit": 2048000,
      "rowLimit": 10000
     },
     "inputWidgets": {},
     "nuid": "2a5b2e22-ca68-435c-86de-01ce7d5f2e57",
     "showTitle": false,
     "title": ""
    }
   },
   "source": [
    "Running the following inside the notebook will import and install all required packages. "
   ]
  },
  {
   "cell_type": "code",
   "execution_count": 0,
   "metadata": {
    "application/vnd.databricks.v1+cell": {
     "cellMetadata": {},
     "inputWidgets": {},
     "nuid": "91d8d66e-01a5-407d-a1bc-fd173f106f94",
     "showTitle": false,
     "title": ""
    }
   },
   "outputs": [],
   "source": [
    "pip install json"
   ]
  },
  {
   "cell_type": "code",
   "execution_count": 0,
   "metadata": {
    "application/vnd.databricks.v1+cell": {
     "cellMetadata": {
      "byteLimit": 2048000,
      "rowLimit": 10000
     },
     "inputWidgets": {},
     "nuid": "e28fdb1a-031a-42be-b8a2-68453fa1aced",
     "showTitle": false,
     "title": ""
    }
   },
   "outputs": [],
   "source": [
    "import json"
   ]
  },
  {
   "cell_type": "markdown",
   "metadata": {
    "application/vnd.databricks.v1+cell": {
     "cellMetadata": {
      "byteLimit": 2048000,
      "rowLimit": 10000
     },
     "inputWidgets": {},
     "nuid": "3881eb11-e3ae-40a1-b8a8-a8829b2f9f6e",
     "showTitle": false,
     "title": ""
    }
   },
   "source": [
    "Confirm the sqlContext import with the print of following to be an output as a pyspark object."
   ]
  },
  {
   "cell_type": "code",
   "execution_count": 0,
   "metadata": {
    "application/vnd.databricks.v1+cell": {
     "cellMetadata": {
      "byteLimit": 2048000,
      "rowLimit": 10000
     },
     "inputWidgets": {},
     "nuid": "3af21cdc-3eb2-4983-9e73-6dc6da32faf2",
     "showTitle": false,
     "title": ""
    }
   },
   "outputs": [
    {
     "output_type": "stream",
     "name": "stdout",
     "output_type": "stream",
     "text": [
      "Out[131]: <pyspark.sql.context.SQLContext at 0x7f9723743e50>"
     ]
    }
   ],
   "source": [
    "sqlContext"
   ]
  },
  {
   "cell_type": "markdown",
   "metadata": {
    "application/vnd.databricks.v1+cell": {
     "cellMetadata": {
      "byteLimit": 2048000,
      "rowLimit": 10000
     },
     "inputWidgets": {},
     "nuid": "cfc8eab4-5207-4c9a-a4bb-a2efaef63287",
     "showTitle": false,
     "title": ""
    }
   },
   "source": [
    "## Reading the Dataset"
   ]
  },
  {
   "cell_type": "markdown",
   "metadata": {
    "application/vnd.databricks.v1+cell": {
     "cellMetadata": {
      "byteLimit": 2048000,
      "rowLimit": 10000
     },
     "inputWidgets": {},
     "nuid": "bec94c20-ce9b-46fa-8741-59376eac4404",
     "showTitle": false,
     "title": ""
    }
   },
   "source": [
    "I will load the Videos csv file directly from DBFS."
   ]
  },
  {
   "cell_type": "code",
   "execution_count": 0,
   "metadata": {
    "application/vnd.databricks.v1+cell": {
     "cellMetadata": {
      "byteLimit": 2048000,
      "rowLimit": 10000
     },
     "inputWidgets": {},
     "nuid": "aaacc4ea-d0e1-452d-8f45-cbe5b8e7e3ea",
     "showTitle": false,
     "title": ""
    }
   },
   "outputs": [],
   "source": [
    "videos_df = sqlContext.read.load('/FileStore/tables/GBvideos.csv', format='csv', header=True, inferSchema=True)"
   ]
  },
  {
   "cell_type": "markdown",
   "metadata": {
    "application/vnd.databricks.v1+cell": {
     "cellMetadata": {
      "byteLimit": 2048000,
      "rowLimit": 10000
     },
     "inputWidgets": {},
     "nuid": "a151ce68-75de-4f28-be38-e2fd06854300",
     "showTitle": false,
     "title": ""
    }
   },
   "source": [
    "Check the type of videos_df to ensure that it is a pyspark dataframe."
   ]
  },
  {
   "cell_type": "code",
   "execution_count": 0,
   "metadata": {
    "application/vnd.databricks.v1+cell": {
     "cellMetadata": {
      "byteLimit": 2048000,
      "rowLimit": 10000
     },
     "inputWidgets": {},
     "nuid": "1f261bd8-7503-4a35-b4c0-43aa07846149",
     "showTitle": false,
     "title": ""
    }
   },
   "outputs": [
    {
     "output_type": "stream",
     "name": "stdout",
     "output_type": "stream",
     "text": [
      "Out[133]: pyspark.sql.dataframe.DataFrame"
     ]
    }
   ],
   "source": [
    "type(videos_df)"
   ]
  },
  {
   "cell_type": "markdown",
   "metadata": {
    "application/vnd.databricks.v1+cell": {
     "cellMetadata": {
      "byteLimit": 2048000,
      "rowLimit": 10000
     },
     "inputWidgets": {},
     "nuid": "ccea5a34-7461-453f-917c-da84ff74baad",
     "showTitle": false,
     "title": ""
    }
   },
   "source": [
    "Display the first 5 records of the dataframe.\n",
    "\n",
    "(**Note** - when the dataframe shows a limited number of rows, the interactive sort feature may not be accurate for each column)"
   ]
  },
  {
   "cell_type": "code",
   "execution_count": 0,
   "metadata": {
    "application/vnd.databricks.v1+cell": {
     "cellMetadata": {
      "byteLimit": 2048000,
      "rowLimit": 10000
     },
     "inputWidgets": {},
     "nuid": "6f08d0a6-7e5e-4393-a9c3-2a795ea50997",
     "showTitle": false,
     "title": ""
    }
   },
   "outputs": [
    {
     "output_type": "display_data",
     "data": {
      "text/html": [
       "<style scoped>\n",
       "  .table-result-container {\n",
       "    max-height: 300px;\n",
       "    overflow: auto;\n",
       "  }\n",
       "  table, th, td {\n",
       "    border: 1px solid black;\n",
       "    border-collapse: collapse;\n",
       "  }\n",
       "  th, td {\n",
       "    padding: 5px;\n",
       "  }\n",
       "  th {\n",
       "    text-align: left;\n",
       "  }\n",
       "</style><div class='table-result-container'><table class='table-result'><thead style='background-color: white'><tr><th>video_id</th><th>trending_date</th><th>title</th><th>channel_title</th><th>category_id</th><th>publish_time</th><th>tags</th><th>views</th><th>likes</th><th>dislikes</th><th>comment_count</th><th>thumbnail_link</th><th>comments_disabled</th><th>ratings_disabled</th><th>video_error_or_removed</th><th>description</th></tr></thead><tbody><tr><td>Jw1Y-zhQURU</td><td>17.14.11</td><td>John Lewis Christmas Ad 2017 - #MozTheMonster</td><td>John Lewis</td><td>26</td><td>2017-11-10T07:38:29.000Z</td><td>\"christmas\"|\"john lewis christmas\"|\"john lewis\"|\"christmas ad\"|\"mozthemonster\"|\"christmas 2017\"|\"christmas ad 2017\"|\"john lewis christmas advert\"|\"moz\"</td><td>7224515</td><td>55681</td><td>10247</td><td>9479</td><td>https://i.ytimg.com/vi/Jw1Y-zhQURU/default.jpg</td><td>False</td><td>False</td><td>False</td><td>Click here to continue the story and make your own monster:\\nhttp://bit.ly/2mboXgj\\n\\nJoe befriends a noisy Monster under his bed but the two have so much fun together that he can't get to sleep, leaving him tired by day. For Christmas Joe receives a gift to help him finally get a good night’s sleep.\\n\\nShop the ad\\nhttp://bit.ly/2hg04Lc\\n\\nThe music is Golden Slumbers performed by elbow, the original song was by The Beatles. \\nFind the track:\\nhttps://Elbow.lnk.to/GoldenSlumbersXS\\n\\nSubscribe to this channel for regular video updates\\nhttp://bit.ly/2eU8MvW\\n\\nIf you want to hear more from John Lewis:\\n\\nLike John Lewis on Facebook\\nhttp://www.facebook.com/johnlewisretail\\n\\nFollow John Lewis on Twitter\\nhttp://twitter.com/johnlewisretail\\n\\nFollow John Lewis on Instagram\\nhttp://instagram.com/johnlewisretail</td></tr><tr><td>3s1rvMFUweQ</td><td>17.14.11</td><td>Taylor Swift: …Ready for It? (Live) - SNL</td><td>Saturday Night Live</td><td>24</td><td>2017-11-12T06:24:44.000Z</td><td>\"SNL\"|\"Saturday Night Live\"|\"SNL Season 43\"|\"Episode 1730\"|\"Tiffany Haddish\"|\"Taylor Swift\"|\"Taylor Swift Ready for It\"|\"s43\"|\"s43e5\"|\"episode 5\"|\"live\"|\"new york\"|\"comedy\"|\"sketch\"|\"funny\"|\"hilarious\"|\"late night\"|\"host\"|\"music\"|\"guest\"|\"laugh\"|\"impersonation\"|\"actor\"|\"improv\"|\"musician\"|\"comedian\"|\"actress\"|\"If Loving You Is Wrong\"|\"Oprah Winfrey\"|\"OWN\"|\"Girls Trip\"|\"The Carmichael Show\"|\"Keanu\"|\"Reputation\"|\"Look What You Made Me Do\"|\"ready for it?\"</td><td>1053632</td><td>25561</td><td>2294</td><td>2757</td><td>https://i.ytimg.com/vi/3s1rvMFUweQ/default.jpg</td><td>False</td><td>False</td><td>False</td><td>Musical guest Taylor Swift performs …Ready for It? on Saturday Night Live.\\n\\n#SNL #SNL43\\n\\nGet more SNL: http://www.nbc.com/saturday-night-live\\nFull Episodes: http://www.nbc.com/saturday-night-liv...\\n\\nLike SNL: https://www.facebook.com/snl\\nFollow SNL: https://twitter.com/nbcsnl\\nSNL Tumblr: http://nbcsnl.tumblr.com/\\nSNL Instagram: http://instagram.com/nbcsnl \\nSNL Pinterest: http://www.pinterest.com/nbcsnl/</td></tr><tr><td>n1WpP7iowLc</td><td>17.14.11</td><td>Eminem - Walk On Water (Audio) ft. Beyoncé</td><td>EminemVEVO</td><td>10</td><td>2017-11-10T17:00:03.000Z</td><td>\"Eminem\"|\"Walk\"|\"On\"|\"Water\"|\"Aftermath/Shady/Interscope\"|\"Rap\"</td><td>17158579</td><td>787420</td><td>43420</td><td>125882</td><td>https://i.ytimg.com/vi/n1WpP7iowLc/default.jpg</td><td>False</td><td>False</td><td>False</td><td>Eminem's new track Walk on Water ft. Beyoncé is available everywhere: http://shady.sr/WOWEminem \\nPlaylist Best of Eminem: https://goo.gl/AquNpo\\nSubscribe for more: https://goo.gl/DxCrDV\\n\\nFor more visit: \\nhttp://eminem.com\\nhttp://facebook.com/eminem\\nhttp://twitter.com/eminem\\nhttp://instagram.com/eminem\\nhttp://eminem.tumblr.com\\nhttp://shadyrecords.com\\nhttp://facebook.com/shadyrecords\\nhttp://twitter.com/shadyrecords\\nhttp://instagram.com/shadyrecords\\nhttp://trustshady.tumblr.com\\n\\nMusic video by Eminem performing Walk On Water. (C) 2017 Aftermath Records\\nhttp://vevo.ly/gA7xKt</td></tr><tr><td>PUTEiSjKwJU</td><td>17.14.11</td><td>Goals from Salford City vs Class of 92 and Friends at The Peninsula Stadium!</td><td>Salford City Football Club</td><td>17</td><td>2017-11-13T02:30:38.000Z</td><td>\"Salford City FC\"|\"Salford City\"|\"Salford\"|\"Class of 92\"|\"University of Salford\"|\"Salford Uni\"|\"Non League\"|\"National League\"|\"National League North\"</td><td>27833</td><td>193</td><td>12</td><td>37</td><td>https://i.ytimg.com/vi/PUTEiSjKwJU/default.jpg</td><td>False</td><td>False</td><td>False</td><td>Salford drew 4-4 against the Class of 92 and Friends at the newly opened The Peninsula Stadium!\\n\\nLike us on Facebook: https://www.facebook.com/SalfordCityFC/ \\nFollow us on Twitter: https://twitter.com/SalfordCityFC\\nFollow us on Instagram: https://www.instagram.com/salfordcityfc/ \\nSubscribe to us on YouTube: https://www.youtube.com/user/SalfordCityTV\\n\\nWebsite: https://salfordcityfc.co.uk</td></tr><tr><td>rHwDegptbI4</td><td>17.14.11</td><td>Dashcam captures truck's near miss with child in Norway</td><td>Cute Girl Videos</td><td>25</td><td>2017-11-13T01:45:13.000Z</td><td>[none]</td><td>9815</td><td>30</td><td>2</td><td>30</td><td>https://i.ytimg.com/vi/rHwDegptbI4/default.jpg</td><td>False</td><td>False</td><td>False</td><td>Dashcam captures truck's near miss with child in Norway\\nThe close call happened as children were getting off a school bus in Norway.\\n\\nEurope\\nNorway</td></tr></tbody></table></div>"
      ]
     },
     "metadata": {
      "application/vnd.databricks.v1+output": {
       "addedWidgets": {},
       "aggData": [],
       "aggError": "",
       "aggOverflow": false,
       "aggSchema": [],
       "aggSeriesLimitReached": false,
       "aggType": "",
       "arguments": {},
       "columnCustomDisplayInfos": {},
       "data": [
        [
         "Jw1Y-zhQURU",
         "17.14.11",
         "John Lewis Christmas Ad 2017 - #MozTheMonster",
         "John Lewis",
         "26",
         "2017-11-10T07:38:29.000Z",
         "\"christmas\"|\"john lewis christmas\"|\"john lewis\"|\"christmas ad\"|\"mozthemonster\"|\"christmas 2017\"|\"christmas ad 2017\"|\"john lewis christmas advert\"|\"moz\"",
         "7224515",
         "55681",
         "10247",
         "9479",
         "https://i.ytimg.com/vi/Jw1Y-zhQURU/default.jpg",
         "False",
         "False",
         "False",
         "Click here to continue the story and make your own monster:\\nhttp://bit.ly/2mboXgj\\n\\nJoe befriends a noisy Monster under his bed but the two have so much fun together that he can't get to sleep, leaving him tired by day. For Christmas Joe receives a gift to help him finally get a good night’s sleep.\\n\\nShop the ad\\nhttp://bit.ly/2hg04Lc\\n\\nThe music is Golden Slumbers performed by elbow, the original song was by The Beatles. \\nFind the track:\\nhttps://Elbow.lnk.to/GoldenSlumbersXS\\n\\nSubscribe to this channel for regular video updates\\nhttp://bit.ly/2eU8MvW\\n\\nIf you want to hear more from John Lewis:\\n\\nLike John Lewis on Facebook\\nhttp://www.facebook.com/johnlewisretail\\n\\nFollow John Lewis on Twitter\\nhttp://twitter.com/johnlewisretail\\n\\nFollow John Lewis on Instagram\\nhttp://instagram.com/johnlewisretail"
        ],
        [
         "3s1rvMFUweQ",
         "17.14.11",
         "Taylor Swift: …Ready for It? (Live) - SNL",
         "Saturday Night Live",
         "24",
         "2017-11-12T06:24:44.000Z",
         "\"SNL\"|\"Saturday Night Live\"|\"SNL Season 43\"|\"Episode 1730\"|\"Tiffany Haddish\"|\"Taylor Swift\"|\"Taylor Swift Ready for It\"|\"s43\"|\"s43e5\"|\"episode 5\"|\"live\"|\"new york\"|\"comedy\"|\"sketch\"|\"funny\"|\"hilarious\"|\"late night\"|\"host\"|\"music\"|\"guest\"|\"laugh\"|\"impersonation\"|\"actor\"|\"improv\"|\"musician\"|\"comedian\"|\"actress\"|\"If Loving You Is Wrong\"|\"Oprah Winfrey\"|\"OWN\"|\"Girls Trip\"|\"The Carmichael Show\"|\"Keanu\"|\"Reputation\"|\"Look What You Made Me Do\"|\"ready for it?\"",
         "1053632",
         "25561",
         "2294",
         "2757",
         "https://i.ytimg.com/vi/3s1rvMFUweQ/default.jpg",
         "False",
         "False",
         "False",
         "Musical guest Taylor Swift performs …Ready for It? on Saturday Night Live.\\n\\n#SNL #SNL43\\n\\nGet more SNL: http://www.nbc.com/saturday-night-live\\nFull Episodes: http://www.nbc.com/saturday-night-liv...\\n\\nLike SNL: https://www.facebook.com/snl\\nFollow SNL: https://twitter.com/nbcsnl\\nSNL Tumblr: http://nbcsnl.tumblr.com/\\nSNL Instagram: http://instagram.com/nbcsnl \\nSNL Pinterest: http://www.pinterest.com/nbcsnl/"
        ],
        [
         "n1WpP7iowLc",
         "17.14.11",
         "Eminem - Walk On Water (Audio) ft. Beyoncé",
         "EminemVEVO",
         "10",
         "2017-11-10T17:00:03.000Z",
         "\"Eminem\"|\"Walk\"|\"On\"|\"Water\"|\"Aftermath/Shady/Interscope\"|\"Rap\"",
         "17158579",
         "787420",
         "43420",
         "125882",
         "https://i.ytimg.com/vi/n1WpP7iowLc/default.jpg",
         "False",
         "False",
         "False",
         "Eminem's new track Walk on Water ft. Beyoncé is available everywhere: http://shady.sr/WOWEminem \\nPlaylist Best of Eminem: https://goo.gl/AquNpo\\nSubscribe for more: https://goo.gl/DxCrDV\\n\\nFor more visit: \\nhttp://eminem.com\\nhttp://facebook.com/eminem\\nhttp://twitter.com/eminem\\nhttp://instagram.com/eminem\\nhttp://eminem.tumblr.com\\nhttp://shadyrecords.com\\nhttp://facebook.com/shadyrecords\\nhttp://twitter.com/shadyrecords\\nhttp://instagram.com/shadyrecords\\nhttp://trustshady.tumblr.com\\n\\nMusic video by Eminem performing Walk On Water. (C) 2017 Aftermath Records\\nhttp://vevo.ly/gA7xKt"
        ],
        [
         "PUTEiSjKwJU",
         "17.14.11",
         "Goals from Salford City vs Class of 92 and Friends at The Peninsula Stadium!",
         "Salford City Football Club",
         "17",
         "2017-11-13T02:30:38.000Z",
         "\"Salford City FC\"|\"Salford City\"|\"Salford\"|\"Class of 92\"|\"University of Salford\"|\"Salford Uni\"|\"Non League\"|\"National League\"|\"National League North\"",
         "27833",
         "193",
         "12",
         "37",
         "https://i.ytimg.com/vi/PUTEiSjKwJU/default.jpg",
         "False",
         "False",
         "False",
         "Salford drew 4-4 against the Class of 92 and Friends at the newly opened The Peninsula Stadium!\\n\\nLike us on Facebook: https://www.facebook.com/SalfordCityFC/ \\nFollow us on Twitter: https://twitter.com/SalfordCityFC\\nFollow us on Instagram: https://www.instagram.com/salfordcityfc/ \\nSubscribe to us on YouTube: https://www.youtube.com/user/SalfordCityTV\\n\\nWebsite: https://salfordcityfc.co.uk"
        ],
        [
         "rHwDegptbI4",
         "17.14.11",
         "Dashcam captures truck's near miss with child in Norway",
         "Cute Girl Videos",
         "25",
         "2017-11-13T01:45:13.000Z",
         "[none]",
         "9815",
         "30",
         "2",
         "30",
         "https://i.ytimg.com/vi/rHwDegptbI4/default.jpg",
         "False",
         "False",
         "False",
         "Dashcam captures truck's near miss with child in Norway\\nThe close call happened as children were getting off a school bus in Norway.\\n\\nEurope\\nNorway"
        ]
       ],
       "datasetInfos": [],
       "dbfsResultPath": null,
       "isJsonSchema": true,
       "metadata": {},
       "overflow": false,
       "plotOptions": {
        "customPlotOptions": {},
        "displayType": "table",
        "pivotAggregation": null,
        "pivotColumns": null,
        "xColumns": null,
        "yColumns": null
       },
       "removedWidgets": [],
       "schema": [
        {
         "metadata": "{}",
         "name": "video_id",
         "type": "\"string\""
        },
        {
         "metadata": "{}",
         "name": "trending_date",
         "type": "\"string\""
        },
        {
         "metadata": "{}",
         "name": "title",
         "type": "\"string\""
        },
        {
         "metadata": "{}",
         "name": "channel_title",
         "type": "\"string\""
        },
        {
         "metadata": "{}",
         "name": "category_id",
         "type": "\"string\""
        },
        {
         "metadata": "{}",
         "name": "publish_time",
         "type": "\"string\""
        },
        {
         "metadata": "{}",
         "name": "tags",
         "type": "\"string\""
        },
        {
         "metadata": "{}",
         "name": "views",
         "type": "\"string\""
        },
        {
         "metadata": "{}",
         "name": "likes",
         "type": "\"string\""
        },
        {
         "metadata": "{}",
         "name": "dislikes",
         "type": "\"string\""
        },
        {
         "metadata": "{}",
         "name": "comment_count",
         "type": "\"string\""
        },
        {
         "metadata": "{}",
         "name": "thumbnail_link",
         "type": "\"string\""
        },
        {
         "metadata": "{}",
         "name": "comments_disabled",
         "type": "\"string\""
        },
        {
         "metadata": "{}",
         "name": "ratings_disabled",
         "type": "\"string\""
        },
        {
         "metadata": "{}",
         "name": "video_error_or_removed",
         "type": "\"string\""
        },
        {
         "metadata": "{}",
         "name": "description",
         "type": "\"string\""
        }
       ],
       "type": "table"
      }
     },
     "output_type": "display_data"
    }
   ],
   "source": [
    "videos_df.limit(5).display()"
   ]
  },
  {
   "cell_type": "markdown",
   "metadata": {
    "application/vnd.databricks.v1+cell": {
     "cellMetadata": {
      "byteLimit": 2048000,
      "rowLimit": 10000
     },
     "inputWidgets": {},
     "nuid": "d2a5f4b2-12b1-4eb1-9b7d-be24a66edd23",
     "showTitle": false,
     "title": ""
    }
   },
   "source": [
    "I will load the Categories json file in using the json package and using databricks utilites (dbutils)."
   ]
  },
  {
   "cell_type": "code",
   "execution_count": 0,
   "metadata": {
    "application/vnd.databricks.v1+cell": {
     "cellMetadata": {
      "byteLimit": 2048000,
      "rowLimit": 10000
     },
     "inputWidgets": {},
     "nuid": "843c5190-9ad1-4754-a3c8-844239581aa1",
     "showTitle": false,
     "title": ""
    }
   },
   "outputs": [],
   "source": [
    "categories_json = json.loads(dbutils.fs.head('/FileStore/tables/GB_category_id.json'))"
   ]
  },
  {
   "cell_type": "markdown",
   "metadata": {
    "application/vnd.databricks.v1+cell": {
     "cellMetadata": {
      "byteLimit": 2048000,
      "rowLimit": 10000
     },
     "inputWidgets": {},
     "nuid": "e3cda728-ce49-40e1-af77-6c45c612ecf6",
     "showTitle": false,
     "title": ""
    }
   },
   "source": [
    "Display the categories json file."
   ]
  },
  {
   "cell_type": "code",
   "execution_count": 0,
   "metadata": {
    "application/vnd.databricks.v1+cell": {
     "cellMetadata": {
      "byteLimit": 2048000,
      "rowLimit": 10000
     },
     "inputWidgets": {},
     "nuid": "d0646525-aeaa-4c1b-b52a-b0f58dce5936",
     "showTitle": false,
     "title": ""
    }
   },
   "outputs": [
    {
     "output_type": "stream",
     "name": "stdout",
     "output_type": "stream",
     "text": [
      "Out[136]: {'kind': 'youtube#videoCategoryListResponse',\n 'etag': '\"m2yskBQFythfE4irbTIeOgYYfBU/1v2mrzYSYG6onNLt2qTj13hkQZk\"',\n 'items': [{'kind': 'youtube#videoCategory',\n   'etag': '\"m2yskBQFythfE4irbTIeOgYYfBU/Xy1mB4_yLrHy_BmKmPBggty2mZQ\"',\n   'id': '1',\n   'snippet': {'channelId': 'UCBR8-60-B28hp2BmDPdntcQ',\n    'title': 'Film & Animation',\n    'assignable': True}},\n  {'kind': 'youtube#videoCategory',\n   'etag': '\"m2yskBQFythfE4irbTIeOgYYfBU/UZ1oLIIz2dxIhO45ZTFR3a3NyTA\"',\n   'id': '2',\n   'snippet': {'channelId': 'UCBR8-60-B28hp2BmDPdntcQ',\n    'title': 'Autos & Vehicles',\n    'assignable': True}},\n  {'kind': 'youtube#videoCategory',\n   'etag': '\"m2yskBQFythfE4irbTIeOgYYfBU/nqRIq97-xe5XRZTxbknKFVe5Lmg\"',\n   'id': '10',\n   'snippet': {'channelId': 'UCBR8-60-B28hp2BmDPdntcQ',\n    'title': 'Music',\n    'assignable': True}},\n  {'kind': 'youtube#videoCategory',\n   'etag': '\"m2yskBQFythfE4irbTIeOgYYfBU/HwXKamM1Q20q9BN-oBJavSGkfDI\"',\n   'id': '15',\n   'snippet': {'channelId': 'UCBR8-60-B28hp2BmDPdntcQ',\n    'title': 'Pets & Animals',\n    'assignable': True}},\n  {'kind': 'youtube#videoCategory',\n   'etag': '\"m2yskBQFythfE4irbTIeOgYYfBU/9GQMSRjrZdHeb1OEM1XVQ9zbGec\"',\n   'id': '17',\n   'snippet': {'channelId': 'UCBR8-60-B28hp2BmDPdntcQ',\n    'title': 'Sports',\n    'assignable': True}},\n  {'kind': 'youtube#videoCategory',\n   'etag': '\"m2yskBQFythfE4irbTIeOgYYfBU/FJwVpGCVZ1yiJrqZbpqe68Sy_OE\"',\n   'id': '18',\n   'snippet': {'channelId': 'UCBR8-60-B28hp2BmDPdntcQ',\n    'title': 'Short Movies',\n    'assignable': False}},\n  {'kind': 'youtube#videoCategory',\n   'etag': '\"m2yskBQFythfE4irbTIeOgYYfBU/M-3iD9dwK7YJCafRf_DkLN8CouA\"',\n   'id': '19',\n   'snippet': {'channelId': 'UCBR8-60-B28hp2BmDPdntcQ',\n    'title': 'Travel & Events',\n    'assignable': True}},\n  {'kind': 'youtube#videoCategory',\n   'etag': '\"m2yskBQFythfE4irbTIeOgYYfBU/WmA0qYEfjWsAoyJFSw2zinhn2wM\"',\n   'id': '20',\n   'snippet': {'channelId': 'UCBR8-60-B28hp2BmDPdntcQ',\n    'title': 'Gaming',\n    'assignable': True}},\n  {'kind': 'youtube#videoCategory',\n   'etag': '\"m2yskBQFythfE4irbTIeOgYYfBU/EapFaGYG7K0StIXVf8aba249tdM\"',\n   'id': '21',\n   'snippet': {'channelId': 'UCBR8-60-B28hp2BmDPdntcQ',\n    'title': 'Videoblogging',\n    'assignable': False}},\n  {'kind': 'youtube#videoCategory',\n   'etag': '\"m2yskBQFythfE4irbTIeOgYYfBU/xId8RX7vRN8rqkbYZbNIytUQDRo\"',\n   'id': '22',\n   'snippet': {'channelId': 'UCBR8-60-B28hp2BmDPdntcQ',\n    'title': 'People & Blogs',\n    'assignable': True}},\n  {'kind': 'youtube#videoCategory',\n   'etag': '\"m2yskBQFythfE4irbTIeOgYYfBU/G9LHzQmx44rX2S5yaga_Aqtwz8M\"',\n   'id': '23',\n   'snippet': {'channelId': 'UCBR8-60-B28hp2BmDPdntcQ',\n    'title': 'Comedy',\n    'assignable': True}},\n  {'kind': 'youtube#videoCategory',\n   'etag': '\"m2yskBQFythfE4irbTIeOgYYfBU/UVB9oxX2Bvqa_w_y3vXSLVK5E_s\"',\n   'id': '24',\n   'snippet': {'channelId': 'UCBR8-60-B28hp2BmDPdntcQ',\n    'title': 'Entertainment',\n    'assignable': True}},\n  {'kind': 'youtube#videoCategory',\n   'etag': '\"m2yskBQFythfE4irbTIeOgYYfBU/QiLK0ZIrFoORdk_g2l_XR_ECjDc\"',\n   'id': '25',\n   'snippet': {'channelId': 'UCBR8-60-B28hp2BmDPdntcQ',\n    'title': 'News & Politics',\n    'assignable': True}},\n  {'kind': 'youtube#videoCategory',\n   'etag': '\"m2yskBQFythfE4irbTIeOgYYfBU/r6Ck6Z0_L0rG37VJQR200SGNA_w\"',\n   'id': '26',\n   'snippet': {'channelId': 'UCBR8-60-B28hp2BmDPdntcQ',\n    'title': 'Howto & Style',\n    'assignable': True}},\n  {'kind': 'youtube#videoCategory',\n   'etag': '\"m2yskBQFythfE4irbTIeOgYYfBU/EoYkczo9I3RCf96RveKTOgOPkUM\"',\n   'id': '27',\n   'snippet': {'channelId': 'UCBR8-60-B28hp2BmDPdntcQ',\n    'title': 'Education',\n    'assignable': True}},\n  {'kind': 'youtube#videoCategory',\n   'etag': '\"m2yskBQFythfE4irbTIeOgYYfBU/w5HjcTD82G_XA3xBctS30zS-JpQ\"',\n   'id': '28',\n   'snippet': {'channelId': 'UCBR8-60-B28hp2BmDPdntcQ',\n    'title': 'Science & Technology',\n    'assignable': True}},\n  {'kind': 'youtube#videoCategory',\n   'etag': '\"m2yskBQFythfE4irbTIeOgYYfBU/lL7uWDr_071CHxifjYG1tJrp4Uo\"',\n   'id': '30',\n   'snippet': {'channelId': 'UCBR8-60-B28hp2BmDPdntcQ',\n    'title': 'Movies',\n    'assignable': False}},\n  {'kind': 'youtube#videoCategory',\n   'etag': '\"m2yskBQFythfE4irbTIeOgYYfBU/WnuVfjO-PyFLO7NTRQIbrGE62nk\"',\n   'id': '31',\n   'snippet': {'channelId': 'UCBR8-60-B28hp2BmDPdntcQ',\n    'title': 'Anime/Animation',\n    'assignable': False}},\n  {'kind': 'youtube#videoCategory',\n   'etag': '\"m2yskBQFythfE4irbTIeOgYYfBU/ctpH2hGA_UZ3volJT_FTlOg9M00\"',\n   'id': '32',\n   'snippet': {'channelId': 'UCBR8-60-B28hp2BmDPdntcQ',\n    'title': 'Action/Adventure',\n    'assignable': False}},\n  {'kind': 'youtube#videoCategory',\n   'etag': '\"m2yskBQFythfE4irbTIeOgYYfBU/L0kR3-g1BAo5UD1PLVbQ7LkkDtQ\"',\n   'id': '33',\n   'snippet': {'channelId': 'UCBR8-60-B28hp2BmDPdntcQ',\n    'title': 'Classics',\n    'assignable': False}},\n  {'kind': 'youtube#videoCategory',\n   'etag': '\"m2yskBQFythfE4irbTIeOgYYfBU/pUZOAC_s9sfiwar639qr_wAB-aI\"',\n   'id': '34',\n   'snippet': {'channelId': 'UCBR8-60-B28hp2BmDPdntcQ',\n    'title': 'Comedy',\n    'assignable': False}},\n  {'kind': 'youtube#videoCategory',\n   'etag': '\"m2yskBQFythfE4irbTIeOgYYfBU/Xb5JLhtyNRN3AQq021Ds-OV50Jk\"',\n   'id': '35',\n   'snippet': {'channelId': 'UCBR8-60-B28hp2BmDPdntcQ',\n    'title': 'Documentary',\n    'assignable': False}},\n  {'kind': 'youtube#videoCategory',\n   'etag': '\"m2yskBQFythfE4irbTIeOgYYfBU/u8WXzF4HIhtEi805__sqjuA4lEk\"',\n   'id': '36',\n   'snippet': {'channelId': 'UCBR8-60-B28hp2BmDPdntcQ',\n    'title': 'Drama',\n    'assignable': False}},\n  {'kind': 'youtube#videoCategory',\n   'etag': '\"m2yskBQFythfE4irbTIeOgYYfBU/D04PP4Gr7wc4IV_O9G66Z4A8KWQ\"',\n   'id': '37',\n   'snippet': {'channelId': 'UCBR8-60-B28hp2BmDPdntcQ',\n    'title': 'Family',\n    'assignable': False}},\n  {'kind': 'youtube#videoCategory',\n   'etag': '\"m2yskBQFythfE4irbTIeOgYYfBU/i5-_AceGXQCEEMWU0V8CcQm_vLQ\"',\n   'id': '38',\n   'snippet': {'channelId': 'UCBR8-60-B28hp2BmDPdntcQ',\n    'title': 'Foreign',\n    'assignable': False}},\n  {'kind': 'youtube#videoCategory',\n   'etag': '\"m2yskBQFythfE4irbTIeOgYYfBU/rtlxd0zOixA9QHdIZB26-St5qgQ\"',\n   'id': '39',\n   'snippet': {'channelId': 'UCBR8-60-B28hp2BmDPdntcQ',\n    'title': 'Horror',\n    'assignable': False}},\n  {'kind': 'youtube#videoCategory',\n   'etag': '\"m2yskBQFythfE4irbTIeOgYYfBU/N1TrDFLRppxZgBowCJfJCvh0Dpg\"',\n   'id': '40',\n   'snippet': {'channelId': 'UCBR8-60-B28hp2BmDPdntcQ',\n    'title': 'Sci-Fi/Fantasy',\n    'assignable': False}},\n  {'kind': 'youtube#videoCategory',\n   'etag': '\"m2yskBQFythfE4irbTIeOgYYfBU/7UMGi6zRySqXopr_rv4sZq6Za2E\"',\n   'id': '41',\n   'snippet': {'channelId': 'UCBR8-60-B28hp2BmDPdntcQ',\n    'title': 'Thriller',\n    'assignable': False}},\n  {'kind': 'youtube#videoCategory',\n   'etag': '\"m2yskBQFythfE4irbTIeOgYYfBU/RScXhi324h8usyIetreAVb-uKeM\"',\n   'id': '42',\n   'snippet': {'channelId': 'UCBR8-60-B28hp2BmDPdntcQ',\n    'title': 'Shorts',\n    'assignable': False}},\n  {'kind': 'youtube#videoCategory',\n   'etag': '\"m2yskBQFythfE4irbTIeOgYYfBU/0n9MJVCDLpA8q7aiGVrFsuFsd0A\"',\n   'id': '43',\n   'snippet': {'channelId': 'UCBR8-60-B28hp2BmDPdntcQ',\n    'title': 'Shows',\n    'assignable': False}},\n  {'kind': 'youtube#videoCategory',\n   'etag': '\"m2yskBQFythfE4irbTIeOgYYfBU/x5NxSf5fz8hn4loSN4rvhwzD_pY\"',\n   'id': '44',\n   'snippet': {'channelId': 'UCBR8-60-B28hp2BmDPdntcQ',\n    'title': 'Trailers',\n    'assignable': False}}]}"
     ]
    }
   ],
   "source": [
    "categories_json"
   ]
  },
  {
   "cell_type": "markdown",
   "metadata": {
    "application/vnd.databricks.v1+cell": {
     "cellMetadata": {
      "byteLimit": 2048000,
      "rowLimit": 10000
     },
     "inputWidgets": {},
     "nuid": "08a1aa30-ab76-42f7-9363-02e07f2d7c5f",
     "showTitle": false,
     "title": ""
    }
   },
   "source": [
    "This json file contains a vast amount of information that will not be needed for analysis which means I will perfom data transformation and manipulation to make this more useful in the next section."
   ]
  },
  {
   "cell_type": "markdown",
   "metadata": {
    "application/vnd.databricks.v1+cell": {
     "cellMetadata": {
      "byteLimit": 2048000,
      "rowLimit": 10000
     },
     "inputWidgets": {},
     "nuid": "0e971f81-4275-4eb8-b7ee-a3abc8f97159",
     "showTitle": false,
     "title": ""
    }
   },
   "source": [
    "## Data Cleaning and Transformation"
   ]
  },
  {
   "cell_type": "markdown",
   "metadata": {
    "application/vnd.databricks.v1+cell": {
     "cellMetadata": {
      "byteLimit": 2048000,
      "rowLimit": 10000
     },
     "inputWidgets": {},
     "nuid": "3c4dfbf1-2383-4fee-840b-31aa1c5b2384",
     "showTitle": false,
     "title": ""
    }
   },
   "source": [
    "Checks can be done on the dataset that include checking the data types and also checking to see if there are any NaN, null or duplicated values that need to be dealt with before beginning to analyse the data and draw insights. The data also needs to be transformed and mainpulated in a way that will allow analysis to be achieved easily"
   ]
  },
  {
   "cell_type": "markdown",
   "metadata": {
    "application/vnd.databricks.v1+cell": {
     "cellMetadata": {
      "byteLimit": 2048000,
      "rowLimit": 10000
     },
     "inputWidgets": {},
     "nuid": "d5de44df-c359-487b-8eea-e14c57514797",
     "showTitle": false,
     "title": ""
    }
   },
   "source": [
    "### Cleaning - videos_df"
   ]
  },
  {
   "cell_type": "markdown",
   "metadata": {
    "application/vnd.databricks.v1+cell": {
     "cellMetadata": {
      "byteLimit": 2048000,
      "rowLimit": 10000
     },
     "inputWidgets": {},
     "nuid": "d1155098-561c-4321-b37d-78561f6e7d27",
     "showTitle": false,
     "title": ""
    }
   },
   "source": [
    "First, I will check to see if the data types in the dataframe require adjusment."
   ]
  },
  {
   "cell_type": "code",
   "execution_count": 0,
   "metadata": {
    "application/vnd.databricks.v1+cell": {
     "cellMetadata": {
      "byteLimit": 2048000,
      "rowLimit": 10000
     },
     "inputWidgets": {},
     "nuid": "9970dbb4-b761-4bea-b623-d9443ce77d8e",
     "showTitle": false,
     "title": ""
    }
   },
   "outputs": [
    {
     "output_type": "stream",
     "name": "stdout",
     "output_type": "stream",
     "text": [
      "Out[137]: [('video_id', 'string'),\n ('trending_date', 'string'),\n ('title', 'string'),\n ('channel_title', 'string'),\n ('category_id', 'string'),\n ('publish_time', 'string'),\n ('tags', 'string'),\n ('views', 'string'),\n ('likes', 'string'),\n ('dislikes', 'string'),\n ('comment_count', 'string'),\n ('thumbnail_link', 'string'),\n ('comments_disabled', 'string'),\n ('ratings_disabled', 'string'),\n ('video_error_or_removed', 'string'),\n ('description', 'string')]"
     ]
    }
   ],
   "source": [
    "videos_df.dtypes"
   ]
  },
  {
   "cell_type": "markdown",
   "metadata": {
    "application/vnd.databricks.v1+cell": {
     "cellMetadata": {
      "byteLimit": 2048000,
      "rowLimit": 10000
     },
     "inputWidgets": {},
     "nuid": "32619a32-16df-403d-935d-c620ab49ce3e",
     "showTitle": false,
     "title": ""
    }
   },
   "source": [
    "All of the data types are listed as strings, this is incorrect as some columns contain only numeric values. I will change views, likes, dislikes and comment_count to integers. Other columns can also be corrected, however these are the columns I will be using for analysis."
   ]
  },
  {
   "cell_type": "code",
   "execution_count": 0,
   "metadata": {
    "application/vnd.databricks.v1+cell": {
     "cellMetadata": {
      "byteLimit": 2048000,
      "rowLimit": 10000
     },
     "inputWidgets": {},
     "nuid": "42000df3-6d83-4525-a5a8-d9c551fda074",
     "showTitle": false,
     "title": ""
    }
   },
   "outputs": [],
   "source": [
    "numeric_columns = ['views', 'likes', 'dislikes', 'comment_count']\n",
    "\n",
    "for column in numeric_columns:\n",
    "    videos_df = videos_df.withColumn(column, videos_df[column].cast('int')) "
   ]
  },
  {
   "cell_type": "markdown",
   "metadata": {
    "application/vnd.databricks.v1+cell": {
     "cellMetadata": {
      "byteLimit": 2048000,
      "rowLimit": 10000
     },
     "inputWidgets": {},
     "nuid": "1b3ef9e7-cb21-4791-bf6e-784c029d3ab6",
     "showTitle": false,
     "title": ""
    }
   },
   "source": [
    "Check the new data types."
   ]
  },
  {
   "cell_type": "code",
   "execution_count": 0,
   "metadata": {
    "application/vnd.databricks.v1+cell": {
     "cellMetadata": {
      "byteLimit": 2048000,
      "rowLimit": 10000
     },
     "inputWidgets": {},
     "nuid": "2a61ad58-772d-4c63-a83b-df69f7a15e95",
     "showTitle": false,
     "title": ""
    }
   },
   "outputs": [
    {
     "output_type": "stream",
     "name": "stdout",
     "output_type": "stream",
     "text": [
      "Out[139]: [('video_id', 'string'),\n ('trending_date', 'string'),\n ('title', 'string'),\n ('channel_title', 'string'),\n ('category_id', 'string'),\n ('publish_time', 'string'),\n ('tags', 'string'),\n ('views', 'int'),\n ('likes', 'int'),\n ('dislikes', 'int'),\n ('comment_count', 'int'),\n ('thumbnail_link', 'string'),\n ('comments_disabled', 'string'),\n ('ratings_disabled', 'string'),\n ('video_error_or_removed', 'string'),\n ('description', 'string')]"
     ]
    }
   ],
   "source": [
    "videos_df.dtypes"
   ]
  },
  {
   "cell_type": "markdown",
   "metadata": {
    "application/vnd.databricks.v1+cell": {
     "cellMetadata": {
      "byteLimit": 2048000,
      "rowLimit": 10000
     },
     "inputWidgets": {},
     "nuid": "561edeef-6c19-45c2-99c3-57282c9fb0f3",
     "showTitle": false,
     "title": ""
    }
   },
   "source": [
    "Each video is a record in the dataframe that has it's own video_id. This means all entries should be unique and there should be no duplicates. I will check the number of rows, drop the duplicates and then check the rows again to see if this has sucessfully been dropped."
   ]
  },
  {
   "cell_type": "markdown",
   "metadata": {
    "application/vnd.databricks.v1+cell": {
     "cellMetadata": {
      "byteLimit": 2048000,
      "rowLimit": 10000
     },
     "inputWidgets": {},
     "nuid": "1acd684b-65f5-4220-a6e8-7f8802660b2a",
     "showTitle": false,
     "title": ""
    }
   },
   "source": [
    "Check the number of rows before removing duplicates."
   ]
  },
  {
   "cell_type": "code",
   "execution_count": 0,
   "metadata": {
    "application/vnd.databricks.v1+cell": {
     "cellMetadata": {
      "byteLimit": 2048000,
      "rowLimit": 10000
     },
     "inputWidgets": {},
     "nuid": "4d63610b-daef-44b4-9ae3-8bf5efcd0f37",
     "showTitle": false,
     "title": ""
    }
   },
   "outputs": [
    {
     "output_type": "stream",
     "name": "stdout",
     "output_type": "stream",
     "text": [
      "Out[140]: 43295"
     ]
    }
   ],
   "source": [
    "videos_df.count()"
   ]
  },
  {
   "cell_type": "markdown",
   "metadata": {
    "application/vnd.databricks.v1+cell": {
     "cellMetadata": {
      "byteLimit": 2048000,
      "rowLimit": 10000
     },
     "inputWidgets": {},
     "nuid": "43b63db7-a4e4-4137-a733-811127359300",
     "showTitle": false,
     "title": ""
    }
   },
   "source": [
    "Drop any duplicates and display the number of rows."
   ]
  },
  {
   "cell_type": "code",
   "execution_count": 0,
   "metadata": {
    "application/vnd.databricks.v1+cell": {
     "cellMetadata": {
      "byteLimit": 2048000,
      "rowLimit": 10000
     },
     "inputWidgets": {},
     "nuid": "1c67bb05-010a-4a55-a124-e0e2e26269a7",
     "showTitle": false,
     "title": ""
    }
   },
   "outputs": [
    {
     "output_type": "stream",
     "name": "stdout",
     "output_type": "stream",
     "text": [
      "Out[141]: 38913"
     ]
    }
   ],
   "source": [
    "videos_df_no_duplicates = videos_df.dropDuplicates()\n",
    "\n",
    "videos_df_no_duplicates.count()"
   ]
  },
  {
   "cell_type": "markdown",
   "metadata": {
    "application/vnd.databricks.v1+cell": {
     "cellMetadata": {
      "byteLimit": 2048000,
      "rowLimit": 10000
     },
     "inputWidgets": {},
     "nuid": "f7b840a6-cc34-4547-983b-423e9854a655",
     "showTitle": false,
     "title": ""
    }
   },
   "source": [
    "NaN and null columns are particularly unuseful in a dataframe therefore they should be removed however I cannot remove all rows with a null as it is dependent on where  the null is. As an example in the videos_df dataframe, the description column contains nulls for certain rows that have an empty description however the rest of that row contains information to be analysed so I cannot drop all nulls completely from the whole table. As a result, I will choose the video_id, category_id, views, likes , dislikes and comment_count columns to have nulls dropped."
   ]
  },
  {
   "cell_type": "markdown",
   "metadata": {
    "application/vnd.databricks.v1+cell": {
     "cellMetadata": {
      "byteLimit": 2048000,
      "rowLimit": 10000
     },
     "inputWidgets": {},
     "nuid": "95f07499-a0fd-454a-b808-836aa29036e1",
     "showTitle": false,
     "title": ""
    }
   },
   "source": [
    "Drop null and NaN from specified columns and display the new number of rows."
   ]
  },
  {
   "cell_type": "code",
   "execution_count": 0,
   "metadata": {
    "application/vnd.databricks.v1+cell": {
     "cellMetadata": {
      "byteLimit": 2048000,
      "rowLimit": 10000
     },
     "inputWidgets": {},
     "nuid": "23d02119-ed3f-4afe-9cf0-655f5bd5b59d",
     "showTitle": false,
     "title": ""
    }
   },
   "outputs": [
    {
     "output_type": "stream",
     "name": "stdout",
     "output_type": "stream",
     "text": [
      "Out[142]: 38745"
     ]
    }
   ],
   "source": [
    "columns_to_drop_nulls = ['video_id', 'category_id', 'views', 'likes', 'dislikes', 'comment_count']\n",
    "videos_df_cleaned = videos_df_no_duplicates.na.drop(subset=columns_to_drop_nulls)\n",
    "videos_df_cleaned.count()"
   ]
  },
  {
   "cell_type": "markdown",
   "metadata": {
    "application/vnd.databricks.v1+cell": {
     "cellMetadata": {
      "byteLimit": 2048000,
      "rowLimit": 10000
     },
     "inputWidgets": {},
     "nuid": "cc264298-c053-4613-a69b-f81856fc36a5",
     "showTitle": false,
     "title": ""
    }
   },
   "source": [
    "Display the first 5 rows of the new dataframe **videos_df_cleaned**."
   ]
  },
  {
   "cell_type": "code",
   "execution_count": 0,
   "metadata": {
    "application/vnd.databricks.v1+cell": {
     "cellMetadata": {
      "byteLimit": 2048000,
      "rowLimit": 10000
     },
     "inputWidgets": {},
     "nuid": "fe3fcbcb-2d16-4d1d-baf3-10a8f02d0112",
     "showTitle": false,
     "title": ""
    }
   },
   "outputs": [
    {
     "output_type": "display_data",
     "data": {
      "text/html": [
       "<style scoped>\n",
       "  .table-result-container {\n",
       "    max-height: 300px;\n",
       "    overflow: auto;\n",
       "  }\n",
       "  table, th, td {\n",
       "    border: 1px solid black;\n",
       "    border-collapse: collapse;\n",
       "  }\n",
       "  th, td {\n",
       "    padding: 5px;\n",
       "  }\n",
       "  th {\n",
       "    text-align: left;\n",
       "  }\n",
       "</style><div class='table-result-container'><table class='table-result'><thead style='background-color: white'><tr><th>video_id</th><th>trending_date</th><th>title</th><th>channel_title</th><th>category_id</th><th>publish_time</th><th>tags</th><th>views</th><th>likes</th><th>dislikes</th><th>comment_count</th><th>thumbnail_link</th><th>comments_disabled</th><th>ratings_disabled</th><th>video_error_or_removed</th><th>description</th></tr></thead><tbody><tr><td>rHwDegptbI4</td><td>17.14.11</td><td>Dashcam captures truck's near miss with child in Norway</td><td>Cute Girl Videos</td><td>25</td><td>2017-11-13T01:45:13.000Z</td><td>[none]</td><td>9815</td><td>30</td><td>2</td><td>30</td><td>https://i.ytimg.com/vi/rHwDegptbI4/default.jpg</td><td>False</td><td>False</td><td>False</td><td>Dashcam captures truck's near miss with child in Norway\\nThe close call happened as children were getting off a school bus in Norway.\\n\\nEurope\\nNorway</td></tr><tr><td>n1WpP7iowLc</td><td>17.14.11</td><td>Eminem - Walk On Water (Audio) ft. Beyoncé</td><td>EminemVEVO</td><td>10</td><td>2017-11-10T17:00:03.000Z</td><td>\"Eminem\"|\"Walk\"|\"On\"|\"Water\"|\"Aftermath/Shady/Interscope\"|\"Rap\"</td><td>17158579</td><td>787420</td><td>43420</td><td>125882</td><td>https://i.ytimg.com/vi/n1WpP7iowLc/default.jpg</td><td>False</td><td>False</td><td>False</td><td>Eminem's new track Walk on Water ft. Beyoncé is available everywhere: http://shady.sr/WOWEminem \\nPlaylist Best of Eminem: https://goo.gl/AquNpo\\nSubscribe for more: https://goo.gl/DxCrDV\\n\\nFor more visit: \\nhttp://eminem.com\\nhttp://facebook.com/eminem\\nhttp://twitter.com/eminem\\nhttp://instagram.com/eminem\\nhttp://eminem.tumblr.com\\nhttp://shadyrecords.com\\nhttp://facebook.com/shadyrecords\\nhttp://twitter.com/shadyrecords\\nhttp://instagram.com/shadyrecords\\nhttp://trustshady.tumblr.com\\n\\nMusic video by Eminem performing Walk On Water. (C) 2017 Aftermath Records\\nhttp://vevo.ly/gA7xKt</td></tr><tr><td>Jw1Y-zhQURU</td><td>17.14.11</td><td>John Lewis Christmas Ad 2017 - #MozTheMonster</td><td>John Lewis</td><td>26</td><td>2017-11-10T07:38:29.000Z</td><td>\"christmas\"|\"john lewis christmas\"|\"john lewis\"|\"christmas ad\"|\"mozthemonster\"|\"christmas 2017\"|\"christmas ad 2017\"|\"john lewis christmas advert\"|\"moz\"</td><td>7224515</td><td>55681</td><td>10247</td><td>9479</td><td>https://i.ytimg.com/vi/Jw1Y-zhQURU/default.jpg</td><td>False</td><td>False</td><td>False</td><td>Click here to continue the story and make your own monster:\\nhttp://bit.ly/2mboXgj\\n\\nJoe befriends a noisy Monster under his bed but the two have so much fun together that he can't get to sleep, leaving him tired by day. For Christmas Joe receives a gift to help him finally get a good night’s sleep.\\n\\nShop the ad\\nhttp://bit.ly/2hg04Lc\\n\\nThe music is Golden Slumbers performed by elbow, the original song was by The Beatles. \\nFind the track:\\nhttps://Elbow.lnk.to/GoldenSlumbersXS\\n\\nSubscribe to this channel for regular video updates\\nhttp://bit.ly/2eU8MvW\\n\\nIf you want to hear more from John Lewis:\\n\\nLike John Lewis on Facebook\\nhttp://www.facebook.com/johnlewisretail\\n\\nFollow John Lewis on Twitter\\nhttp://twitter.com/johnlewisretail\\n\\nFollow John Lewis on Instagram\\nhttp://instagram.com/johnlewisretail</td></tr><tr><td>PUTEiSjKwJU</td><td>17.14.11</td><td>Goals from Salford City vs Class of 92 and Friends at The Peninsula Stadium!</td><td>Salford City Football Club</td><td>17</td><td>2017-11-13T02:30:38.000Z</td><td>\"Salford City FC\"|\"Salford City\"|\"Salford\"|\"Class of 92\"|\"University of Salford\"|\"Salford Uni\"|\"Non League\"|\"National League\"|\"National League North\"</td><td>27833</td><td>193</td><td>12</td><td>37</td><td>https://i.ytimg.com/vi/PUTEiSjKwJU/default.jpg</td><td>False</td><td>False</td><td>False</td><td>Salford drew 4-4 against the Class of 92 and Friends at the newly opened The Peninsula Stadium!\\n\\nLike us on Facebook: https://www.facebook.com/SalfordCityFC/ \\nFollow us on Twitter: https://twitter.com/SalfordCityFC\\nFollow us on Instagram: https://www.instagram.com/salfordcityfc/ \\nSubscribe to us on YouTube: https://www.youtube.com/user/SalfordCityTV\\n\\nWebsite: https://salfordcityfc.co.uk</td></tr><tr><td>3s1rvMFUweQ</td><td>17.14.11</td><td>Taylor Swift: …Ready for It? (Live) - SNL</td><td>Saturday Night Live</td><td>24</td><td>2017-11-12T06:24:44.000Z</td><td>\"SNL\"|\"Saturday Night Live\"|\"SNL Season 43\"|\"Episode 1730\"|\"Tiffany Haddish\"|\"Taylor Swift\"|\"Taylor Swift Ready for It\"|\"s43\"|\"s43e5\"|\"episode 5\"|\"live\"|\"new york\"|\"comedy\"|\"sketch\"|\"funny\"|\"hilarious\"|\"late night\"|\"host\"|\"music\"|\"guest\"|\"laugh\"|\"impersonation\"|\"actor\"|\"improv\"|\"musician\"|\"comedian\"|\"actress\"|\"If Loving You Is Wrong\"|\"Oprah Winfrey\"|\"OWN\"|\"Girls Trip\"|\"The Carmichael Show\"|\"Keanu\"|\"Reputation\"|\"Look What You Made Me Do\"|\"ready for it?\"</td><td>1053632</td><td>25561</td><td>2294</td><td>2757</td><td>https://i.ytimg.com/vi/3s1rvMFUweQ/default.jpg</td><td>False</td><td>False</td><td>False</td><td>Musical guest Taylor Swift performs …Ready for It? on Saturday Night Live.\\n\\n#SNL #SNL43\\n\\nGet more SNL: http://www.nbc.com/saturday-night-live\\nFull Episodes: http://www.nbc.com/saturday-night-liv...\\n\\nLike SNL: https://www.facebook.com/snl\\nFollow SNL: https://twitter.com/nbcsnl\\nSNL Tumblr: http://nbcsnl.tumblr.com/\\nSNL Instagram: http://instagram.com/nbcsnl \\nSNL Pinterest: http://www.pinterest.com/nbcsnl/</td></tr></tbody></table></div>"
      ]
     },
     "metadata": {
      "application/vnd.databricks.v1+output": {
       "addedWidgets": {},
       "aggData": [],
       "aggError": "",
       "aggOverflow": false,
       "aggSchema": [],
       "aggSeriesLimitReached": false,
       "aggType": "",
       "arguments": {},
       "columnCustomDisplayInfos": {},
       "data": [
        [
         "rHwDegptbI4",
         "17.14.11",
         "Dashcam captures truck's near miss with child in Norway",
         "Cute Girl Videos",
         "25",
         "2017-11-13T01:45:13.000Z",
         "[none]",
         9815,
         30,
         2,
         30,
         "https://i.ytimg.com/vi/rHwDegptbI4/default.jpg",
         "False",
         "False",
         "False",
         "Dashcam captures truck's near miss with child in Norway\\nThe close call happened as children were getting off a school bus in Norway.\\n\\nEurope\\nNorway"
        ],
        [
         "n1WpP7iowLc",
         "17.14.11",
         "Eminem - Walk On Water (Audio) ft. Beyoncé",
         "EminemVEVO",
         "10",
         "2017-11-10T17:00:03.000Z",
         "\"Eminem\"|\"Walk\"|\"On\"|\"Water\"|\"Aftermath/Shady/Interscope\"|\"Rap\"",
         17158579,
         787420,
         43420,
         125882,
         "https://i.ytimg.com/vi/n1WpP7iowLc/default.jpg",
         "False",
         "False",
         "False",
         "Eminem's new track Walk on Water ft. Beyoncé is available everywhere: http://shady.sr/WOWEminem \\nPlaylist Best of Eminem: https://goo.gl/AquNpo\\nSubscribe for more: https://goo.gl/DxCrDV\\n\\nFor more visit: \\nhttp://eminem.com\\nhttp://facebook.com/eminem\\nhttp://twitter.com/eminem\\nhttp://instagram.com/eminem\\nhttp://eminem.tumblr.com\\nhttp://shadyrecords.com\\nhttp://facebook.com/shadyrecords\\nhttp://twitter.com/shadyrecords\\nhttp://instagram.com/shadyrecords\\nhttp://trustshady.tumblr.com\\n\\nMusic video by Eminem performing Walk On Water. (C) 2017 Aftermath Records\\nhttp://vevo.ly/gA7xKt"
        ],
        [
         "Jw1Y-zhQURU",
         "17.14.11",
         "John Lewis Christmas Ad 2017 - #MozTheMonster",
         "John Lewis",
         "26",
         "2017-11-10T07:38:29.000Z",
         "\"christmas\"|\"john lewis christmas\"|\"john lewis\"|\"christmas ad\"|\"mozthemonster\"|\"christmas 2017\"|\"christmas ad 2017\"|\"john lewis christmas advert\"|\"moz\"",
         7224515,
         55681,
         10247,
         9479,
         "https://i.ytimg.com/vi/Jw1Y-zhQURU/default.jpg",
         "False",
         "False",
         "False",
         "Click here to continue the story and make your own monster:\\nhttp://bit.ly/2mboXgj\\n\\nJoe befriends a noisy Monster under his bed but the two have so much fun together that he can't get to sleep, leaving him tired by day. For Christmas Joe receives a gift to help him finally get a good night’s sleep.\\n\\nShop the ad\\nhttp://bit.ly/2hg04Lc\\n\\nThe music is Golden Slumbers performed by elbow, the original song was by The Beatles. \\nFind the track:\\nhttps://Elbow.lnk.to/GoldenSlumbersXS\\n\\nSubscribe to this channel for regular video updates\\nhttp://bit.ly/2eU8MvW\\n\\nIf you want to hear more from John Lewis:\\n\\nLike John Lewis on Facebook\\nhttp://www.facebook.com/johnlewisretail\\n\\nFollow John Lewis on Twitter\\nhttp://twitter.com/johnlewisretail\\n\\nFollow John Lewis on Instagram\\nhttp://instagram.com/johnlewisretail"
        ],
        [
         "PUTEiSjKwJU",
         "17.14.11",
         "Goals from Salford City vs Class of 92 and Friends at The Peninsula Stadium!",
         "Salford City Football Club",
         "17",
         "2017-11-13T02:30:38.000Z",
         "\"Salford City FC\"|\"Salford City\"|\"Salford\"|\"Class of 92\"|\"University of Salford\"|\"Salford Uni\"|\"Non League\"|\"National League\"|\"National League North\"",
         27833,
         193,
         12,
         37,
         "https://i.ytimg.com/vi/PUTEiSjKwJU/default.jpg",
         "False",
         "False",
         "False",
         "Salford drew 4-4 against the Class of 92 and Friends at the newly opened The Peninsula Stadium!\\n\\nLike us on Facebook: https://www.facebook.com/SalfordCityFC/ \\nFollow us on Twitter: https://twitter.com/SalfordCityFC\\nFollow us on Instagram: https://www.instagram.com/salfordcityfc/ \\nSubscribe to us on YouTube: https://www.youtube.com/user/SalfordCityTV\\n\\nWebsite: https://salfordcityfc.co.uk"
        ],
        [
         "3s1rvMFUweQ",
         "17.14.11",
         "Taylor Swift: …Ready for It? (Live) - SNL",
         "Saturday Night Live",
         "24",
         "2017-11-12T06:24:44.000Z",
         "\"SNL\"|\"Saturday Night Live\"|\"SNL Season 43\"|\"Episode 1730\"|\"Tiffany Haddish\"|\"Taylor Swift\"|\"Taylor Swift Ready for It\"|\"s43\"|\"s43e5\"|\"episode 5\"|\"live\"|\"new york\"|\"comedy\"|\"sketch\"|\"funny\"|\"hilarious\"|\"late night\"|\"host\"|\"music\"|\"guest\"|\"laugh\"|\"impersonation\"|\"actor\"|\"improv\"|\"musician\"|\"comedian\"|\"actress\"|\"If Loving You Is Wrong\"|\"Oprah Winfrey\"|\"OWN\"|\"Girls Trip\"|\"The Carmichael Show\"|\"Keanu\"|\"Reputation\"|\"Look What You Made Me Do\"|\"ready for it?\"",
         1053632,
         25561,
         2294,
         2757,
         "https://i.ytimg.com/vi/3s1rvMFUweQ/default.jpg",
         "False",
         "False",
         "False",
         "Musical guest Taylor Swift performs …Ready for It? on Saturday Night Live.\\n\\n#SNL #SNL43\\n\\nGet more SNL: http://www.nbc.com/saturday-night-live\\nFull Episodes: http://www.nbc.com/saturday-night-liv...\\n\\nLike SNL: https://www.facebook.com/snl\\nFollow SNL: https://twitter.com/nbcsnl\\nSNL Tumblr: http://nbcsnl.tumblr.com/\\nSNL Instagram: http://instagram.com/nbcsnl \\nSNL Pinterest: http://www.pinterest.com/nbcsnl/"
        ]
       ],
       "datasetInfos": [],
       "dbfsResultPath": null,
       "isJsonSchema": true,
       "metadata": {},
       "overflow": false,
       "plotOptions": {
        "customPlotOptions": {},
        "displayType": "table",
        "pivotAggregation": null,
        "pivotColumns": null,
        "xColumns": null,
        "yColumns": null
       },
       "removedWidgets": [],
       "schema": [
        {
         "metadata": "{}",
         "name": "video_id",
         "type": "\"string\""
        },
        {
         "metadata": "{}",
         "name": "trending_date",
         "type": "\"string\""
        },
        {
         "metadata": "{}",
         "name": "title",
         "type": "\"string\""
        },
        {
         "metadata": "{}",
         "name": "channel_title",
         "type": "\"string\""
        },
        {
         "metadata": "{}",
         "name": "category_id",
         "type": "\"string\""
        },
        {
         "metadata": "{}",
         "name": "publish_time",
         "type": "\"string\""
        },
        {
         "metadata": "{}",
         "name": "tags",
         "type": "\"string\""
        },
        {
         "metadata": "{}",
         "name": "views",
         "type": "\"integer\""
        },
        {
         "metadata": "{}",
         "name": "likes",
         "type": "\"integer\""
        },
        {
         "metadata": "{}",
         "name": "dislikes",
         "type": "\"integer\""
        },
        {
         "metadata": "{}",
         "name": "comment_count",
         "type": "\"integer\""
        },
        {
         "metadata": "{}",
         "name": "thumbnail_link",
         "type": "\"string\""
        },
        {
         "metadata": "{}",
         "name": "comments_disabled",
         "type": "\"string\""
        },
        {
         "metadata": "{}",
         "name": "ratings_disabled",
         "type": "\"string\""
        },
        {
         "metadata": "{}",
         "name": "video_error_or_removed",
         "type": "\"string\""
        },
        {
         "metadata": "{}",
         "name": "description",
         "type": "\"string\""
        }
       ],
       "type": "table"
      }
     },
     "output_type": "display_data"
    }
   ],
   "source": [
    "videos_df_cleaned.limit(5).display()"
   ]
  },
  {
   "cell_type": "markdown",
   "metadata": {
    "application/vnd.databricks.v1+cell": {
     "cellMetadata": {
      "byteLimit": 2048000,
      "rowLimit": 10000
     },
     "inputWidgets": {},
     "nuid": "b20f8946-1e43-457b-bb44-0891fa95158e",
     "showTitle": false,
     "title": ""
    }
   },
   "source": [
    "I will peform a final check of videos_df_cleaned to ensure the columns are structured and the data types are suitable for my needs."
   ]
  },
  {
   "cell_type": "code",
   "execution_count": 0,
   "metadata": {
    "application/vnd.databricks.v1+cell": {
     "cellMetadata": {
      "byteLimit": 2048000,
      "rowLimit": 10000
     },
     "inputWidgets": {},
     "nuid": "15ab1fe9-dda1-4c6b-b2c7-74fc4ff83063",
     "showTitle": false,
     "title": ""
    }
   },
   "outputs": [
    {
     "output_type": "stream",
     "name": "stdout",
     "output_type": "stream",
     "text": [
      "root\n |-- video_id: string (nullable = true)\n |-- trending_date: string (nullable = true)\n |-- title: string (nullable = true)\n |-- channel_title: string (nullable = true)\n |-- category_id: string (nullable = true)\n |-- publish_time: string (nullable = true)\n |-- tags: string (nullable = true)\n |-- views: integer (nullable = true)\n |-- likes: integer (nullable = true)\n |-- dislikes: integer (nullable = true)\n |-- comment_count: integer (nullable = true)\n |-- thumbnail_link: string (nullable = true)\n |-- comments_disabled: string (nullable = true)\n |-- ratings_disabled: string (nullable = true)\n |-- video_error_or_removed: string (nullable = true)\n |-- description: string (nullable = true)\n\n"
     ]
    }
   ],
   "source": [
    "videos_df_cleaned.printSchema()"
   ]
  },
  {
   "cell_type": "markdown",
   "metadata": {
    "application/vnd.databricks.v1+cell": {
     "cellMetadata": {
      "byteLimit": 2048000,
      "rowLimit": 10000
     },
     "inputWidgets": {},
     "nuid": "f14805a5-6ec3-4106-8f50-f836e24872d7",
     "showTitle": false,
     "title": ""
    }
   },
   "source": [
    "The **videos_df_cleaned** now has cleaned data and is ready for analysis. Further cleaning can be performed so that every column can be fit for analysis, however to reiterate, I have only cleaned the data that I believe to be the most impactful in my analysis."
   ]
  },
  {
   "cell_type": "markdown",
   "metadata": {
    "application/vnd.databricks.v1+cell": {
     "cellMetadata": {
      "byteLimit": 2048000,
      "rowLimit": 10000
     },
     "inputWidgets": {},
     "nuid": "26ce8d9e-fb00-45bf-bdc6-5aeb15d4373b",
     "showTitle": false,
     "title": ""
    }
   },
   "source": [
    "### Transformation - categories_json"
   ]
  },
  {
   "cell_type": "markdown",
   "metadata": {
    "application/vnd.databricks.v1+cell": {
     "cellMetadata": {
      "byteLimit": 2048000,
      "rowLimit": 10000
     },
     "inputWidgets": {},
     "nuid": "e38645e9-e69a-44c8-bf77-c6700029c4fd",
     "showTitle": false,
     "title": ""
    }
   },
   "source": [
    "The only useful information that will be applicable for analysis in categories is the category id and title of that category. Once this has been obtained, I will replace the current category_id in the videos_df with catgeory_title instead."
   ]
  },
  {
   "cell_type": "markdown",
   "metadata": {
    "application/vnd.databricks.v1+cell": {
     "cellMetadata": {
      "byteLimit": 2048000,
      "rowLimit": 10000
     },
     "inputWidgets": {},
     "nuid": "9cb1bfd7-54b9-4efc-998e-324ca65c85f8",
     "showTitle": false,
     "title": ""
    }
   },
   "source": [
    "I will extract the category id and title from **categories_json** and create a new dataframe from this."
   ]
  },
  {
   "cell_type": "code",
   "execution_count": 0,
   "metadata": {
    "application/vnd.databricks.v1+cell": {
     "cellMetadata": {
      "byteLimit": 2048000,
      "rowLimit": 10000
     },
     "inputWidgets": {},
     "nuid": "06c0a0d2-a3e2-42ea-a97c-0a02acc67a05",
     "showTitle": false,
     "title": ""
    }
   },
   "outputs": [],
   "source": [
    "extracted_info = []\n",
    "for category in categories_json['items']:\n",
    "    extracted_info.append((category['id'], category['snippet']['title']))\n",
    "\n",
    "category_df = spark.createDataFrame(extracted_info, [\"category_id\", \"category_title\"])"
   ]
  },
  {
   "cell_type": "markdown",
   "metadata": {
    "application/vnd.databricks.v1+cell": {
     "cellMetadata": {
      "byteLimit": 2048000,
      "rowLimit": 10000
     },
     "inputWidgets": {},
     "nuid": "aebb16d0-9cd4-41ea-b3a2-d28eb8e9478b",
     "showTitle": false,
     "title": ""
    }
   },
   "source": [
    "Display the new dataframe **category_df**."
   ]
  },
  {
   "cell_type": "code",
   "execution_count": 0,
   "metadata": {
    "application/vnd.databricks.v1+cell": {
     "cellMetadata": {
      "byteLimit": 2048000,
      "rowLimit": 10000
     },
     "inputWidgets": {},
     "nuid": "3573eae8-2489-4274-9e2a-537a516b66ce",
     "showTitle": false,
     "title": ""
    }
   },
   "outputs": [
    {
     "output_type": "display_data",
     "data": {
      "text/html": [
       "<style scoped>\n",
       "  .table-result-container {\n",
       "    max-height: 300px;\n",
       "    overflow: auto;\n",
       "  }\n",
       "  table, th, td {\n",
       "    border: 1px solid black;\n",
       "    border-collapse: collapse;\n",
       "  }\n",
       "  th, td {\n",
       "    padding: 5px;\n",
       "  }\n",
       "  th {\n",
       "    text-align: left;\n",
       "  }\n",
       "</style><div class='table-result-container'><table class='table-result'><thead style='background-color: white'><tr><th>category_id</th><th>category_title</th></tr></thead><tbody><tr><td>1</td><td>Film & Animation</td></tr><tr><td>2</td><td>Autos & Vehicles</td></tr><tr><td>10</td><td>Music</td></tr><tr><td>15</td><td>Pets & Animals</td></tr><tr><td>17</td><td>Sports</td></tr><tr><td>18</td><td>Short Movies</td></tr><tr><td>19</td><td>Travel & Events</td></tr><tr><td>20</td><td>Gaming</td></tr><tr><td>21</td><td>Videoblogging</td></tr><tr><td>22</td><td>People & Blogs</td></tr><tr><td>23</td><td>Comedy</td></tr><tr><td>24</td><td>Entertainment</td></tr><tr><td>25</td><td>News & Politics</td></tr><tr><td>26</td><td>Howto & Style</td></tr><tr><td>27</td><td>Education</td></tr><tr><td>28</td><td>Science & Technology</td></tr><tr><td>30</td><td>Movies</td></tr><tr><td>31</td><td>Anime/Animation</td></tr><tr><td>32</td><td>Action/Adventure</td></tr><tr><td>33</td><td>Classics</td></tr><tr><td>34</td><td>Comedy</td></tr><tr><td>35</td><td>Documentary</td></tr><tr><td>36</td><td>Drama</td></tr><tr><td>37</td><td>Family</td></tr><tr><td>38</td><td>Foreign</td></tr><tr><td>39</td><td>Horror</td></tr><tr><td>40</td><td>Sci-Fi/Fantasy</td></tr><tr><td>41</td><td>Thriller</td></tr><tr><td>42</td><td>Shorts</td></tr><tr><td>43</td><td>Shows</td></tr><tr><td>44</td><td>Trailers</td></tr></tbody></table></div>"
      ]
     },
     "metadata": {
      "application/vnd.databricks.v1+output": {
       "addedWidgets": {},
       "aggData": [],
       "aggError": "",
       "aggOverflow": false,
       "aggSchema": [],
       "aggSeriesLimitReached": false,
       "aggType": "",
       "arguments": {},
       "columnCustomDisplayInfos": {},
       "data": [
        [
         "1",
         "Film & Animation"
        ],
        [
         "2",
         "Autos & Vehicles"
        ],
        [
         "10",
         "Music"
        ],
        [
         "15",
         "Pets & Animals"
        ],
        [
         "17",
         "Sports"
        ],
        [
         "18",
         "Short Movies"
        ],
        [
         "19",
         "Travel & Events"
        ],
        [
         "20",
         "Gaming"
        ],
        [
         "21",
         "Videoblogging"
        ],
        [
         "22",
         "People & Blogs"
        ],
        [
         "23",
         "Comedy"
        ],
        [
         "24",
         "Entertainment"
        ],
        [
         "25",
         "News & Politics"
        ],
        [
         "26",
         "Howto & Style"
        ],
        [
         "27",
         "Education"
        ],
        [
         "28",
         "Science & Technology"
        ],
        [
         "30",
         "Movies"
        ],
        [
         "31",
         "Anime/Animation"
        ],
        [
         "32",
         "Action/Adventure"
        ],
        [
         "33",
         "Classics"
        ],
        [
         "34",
         "Comedy"
        ],
        [
         "35",
         "Documentary"
        ],
        [
         "36",
         "Drama"
        ],
        [
         "37",
         "Family"
        ],
        [
         "38",
         "Foreign"
        ],
        [
         "39",
         "Horror"
        ],
        [
         "40",
         "Sci-Fi/Fantasy"
        ],
        [
         "41",
         "Thriller"
        ],
        [
         "42",
         "Shorts"
        ],
        [
         "43",
         "Shows"
        ],
        [
         "44",
         "Trailers"
        ]
       ],
       "datasetInfos": [],
       "dbfsResultPath": null,
       "isJsonSchema": true,
       "metadata": {},
       "overflow": false,
       "plotOptions": {
        "customPlotOptions": {},
        "displayType": "table",
        "pivotAggregation": null,
        "pivotColumns": null,
        "xColumns": null,
        "yColumns": null
       },
       "removedWidgets": [],
       "schema": [
        {
         "metadata": "{}",
         "name": "category_id",
         "type": "\"string\""
        },
        {
         "metadata": "{}",
         "name": "category_title",
         "type": "\"string\""
        }
       ],
       "type": "table"
      }
     },
     "output_type": "display_data"
    }
   ],
   "source": [
    "category_df.display()"
   ]
  },
  {
   "cell_type": "markdown",
   "metadata": {
    "application/vnd.databricks.v1+cell": {
     "cellMetadata": {
      "byteLimit": 2048000,
      "rowLimit": 10000
     },
     "inputWidgets": {},
     "nuid": "723f7716-385b-4f27-b728-48e4ca7256fb",
     "showTitle": false,
     "title": ""
    }
   },
   "source": [
    "As can be seen by sorting the category_id in ascending order, there a id numbers that are not included for example an id of 3. This may be a cause for concern so, to find out if these ids exist, I will run a distinct search of the category_id column in the main dataframe videos_df."
   ]
  },
  {
   "cell_type": "code",
   "execution_count": 0,
   "metadata": {
    "application/vnd.databricks.v1+cell": {
     "cellMetadata": {
      "byteLimit": 2048000,
      "rowLimit": 10000
     },
     "inputWidgets": {},
     "nuid": "7d96ee6e-8ed0-4ca3-925d-80f992b6e99a",
     "showTitle": false,
     "title": ""
    }
   },
   "outputs": [
    {
     "output_type": "display_data",
     "data": {
      "text/html": [
       "<style scoped>\n",
       "  .table-result-container {\n",
       "    max-height: 300px;\n",
       "    overflow: auto;\n",
       "  }\n",
       "  table, th, td {\n",
       "    border: 1px solid black;\n",
       "    border-collapse: collapse;\n",
       "  }\n",
       "  th, td {\n",
       "    padding: 5px;\n",
       "  }\n",
       "  th {\n",
       "    text-align: left;\n",
       "  }\n",
       "</style><div class='table-result-container'><table class='table-result'><thead style='background-color: white'><tr><th>category_id</th></tr></thead><tbody><tr><td>15</td></tr><tr><td>22</td></tr><tr><td>28</td></tr><tr><td>27</td></tr><tr><td>17</td></tr><tr><td>26</td></tr><tr><td>19</td></tr><tr><td>23</td></tr><tr><td>25</td></tr><tr><td>24</td></tr><tr><td>1</td></tr><tr><td>20</td></tr><tr><td>10</td></tr><tr><td>2</td></tr><tr><td>29</td></tr><tr><td>43</td></tr></tbody></table></div>"
      ]
     },
     "metadata": {
      "application/vnd.databricks.v1+output": {
       "addedWidgets": {},
       "aggData": [],
       "aggError": "",
       "aggOverflow": false,
       "aggSchema": [],
       "aggSeriesLimitReached": false,
       "aggType": "",
       "arguments": {},
       "columnCustomDisplayInfos": {},
       "data": [
        [
         "15"
        ],
        [
         "22"
        ],
        [
         "28"
        ],
        [
         "27"
        ],
        [
         "17"
        ],
        [
         "26"
        ],
        [
         "19"
        ],
        [
         "23"
        ],
        [
         "25"
        ],
        [
         "24"
        ],
        [
         "1"
        ],
        [
         "20"
        ],
        [
         "10"
        ],
        [
         "2"
        ],
        [
         "29"
        ],
        [
         "43"
        ]
       ],
       "datasetInfos": [],
       "dbfsResultPath": null,
       "isJsonSchema": true,
       "metadata": {},
       "overflow": false,
       "plotOptions": {
        "customPlotOptions": {},
        "displayType": "table",
        "pivotAggregation": null,
        "pivotColumns": null,
        "xColumns": null,
        "yColumns": null
       },
       "removedWidgets": [],
       "schema": [
        {
         "metadata": "{}",
         "name": "category_id",
         "type": "\"string\""
        }
       ],
       "type": "table"
      }
     },
     "output_type": "display_data"
    }
   ],
   "source": [
    "videos_df_cleaned.select(\"category_id\").distinct().display()"
   ]
  },
  {
   "cell_type": "markdown",
   "metadata": {
    "application/vnd.databricks.v1+cell": {
     "cellMetadata": {
      "byteLimit": 2048000,
      "rowLimit": 10000
     },
     "inputWidgets": {},
     "nuid": "a6b3f053-1d18-4d76-867b-048ff1d0e068",
     "showTitle": false,
     "title": ""
    }
   },
   "source": [
    "This resuls provides two main answers. One is that there are no ids that are missing. Using the example previously, there is no category id 3. The other answer, that also may explain the first one further, is that not all the categories that are in category_df are present in the main dataframe videos_df. This is because videos_df shows only the trending videos across the years and not all categories have been trending."
   ]
  },
  {
   "cell_type": "markdown",
   "metadata": {
    "application/vnd.databricks.v1+cell": {
     "cellMetadata": {
      "byteLimit": 2048000,
      "rowLimit": 10000
     },
     "inputWidgets": {},
     "nuid": "91e6f507-3d20-488c-9ade-aa471c9277ab",
     "showTitle": false,
     "title": ""
    }
   },
   "source": [
    "Final check of the structure and the data types of category_df."
   ]
  },
  {
   "cell_type": "code",
   "execution_count": 0,
   "metadata": {
    "application/vnd.databricks.v1+cell": {
     "cellMetadata": {
      "byteLimit": 2048000,
      "rowLimit": 10000
     },
     "inputWidgets": {},
     "nuid": "17f19b4c-a218-4957-a0b1-1ffc3bea78e8",
     "showTitle": false,
     "title": ""
    }
   },
   "outputs": [
    {
     "output_type": "stream",
     "name": "stdout",
     "output_type": "stream",
     "text": [
      "root\n |-- category_id: string (nullable = true)\n |-- category_title: string (nullable = true)\n\n"
     ]
    }
   ],
   "source": [
    "category_df.printSchema()"
   ]
  },
  {
   "cell_type": "markdown",
   "metadata": {
    "application/vnd.databricks.v1+cell": {
     "cellMetadata": {
      "byteLimit": 2048000,
      "rowLimit": 10000
     },
     "inputWidgets": {},
     "nuid": "b2d0e86d-b409-4af4-b992-aa4f3f84ec91",
     "showTitle": false,
     "title": ""
    }
   },
   "source": []
  },
  {
   "cell_type": "markdown",
   "metadata": {
    "application/vnd.databricks.v1+cell": {
     "cellMetadata": {
      "byteLimit": 2048000,
      "rowLimit": 10000
     },
     "inputWidgets": {},
     "nuid": "ce32c430-f3a2-4b92-8e22-1bbc350d6f9c",
     "showTitle": false,
     "title": ""
    }
   },
   "source": [
    "### Combining - videos_df_cleaned and category_df"
   ]
  },
  {
   "cell_type": "markdown",
   "metadata": {
    "application/vnd.databricks.v1+cell": {
     "cellMetadata": {
      "byteLimit": 2048000,
      "rowLimit": 10000
     },
     "inputWidgets": {},
     "nuid": "1da2226d-76bf-4a84-84d4-9a0678d8b900",
     "showTitle": false,
     "title": ""
    }
   },
   "source": [
    "Now that **category_df** has been created, this can be joined with **video_df_cleaned** on the category_id column as these are the same for both dataframes."
   ]
  },
  {
   "cell_type": "code",
   "execution_count": 0,
   "metadata": {
    "application/vnd.databricks.v1+cell": {
     "cellMetadata": {
      "byteLimit": 2048000,
      "rowLimit": 10000
     },
     "inputWidgets": {},
     "nuid": "46a6ecb2-1221-4f7a-8480-b832f1de00ed",
     "showTitle": false,
     "title": ""
    }
   },
   "outputs": [],
   "source": [
    "joined_df = videos_df_cleaned.join(category_df, \"category_id\", \"left\")\n"
   ]
  },
  {
   "cell_type": "markdown",
   "metadata": {
    "application/vnd.databricks.v1+cell": {
     "cellMetadata": {
      "byteLimit": 2048000,
      "rowLimit": 10000
     },
     "inputWidgets": {},
     "nuid": "238ce234-2bf1-4359-b153-e59da775bdd2",
     "showTitle": false,
     "title": ""
    }
   },
   "source": [
    "Display the first 5 rows of the new dataframe **joined_df**."
   ]
  },
  {
   "cell_type": "code",
   "execution_count": 0,
   "metadata": {
    "application/vnd.databricks.v1+cell": {
     "cellMetadata": {
      "byteLimit": 2048000,
      "rowLimit": 10000
     },
     "inputWidgets": {},
     "nuid": "a9ce1c40-bc1d-46af-b208-b54c719c1c6a",
     "showTitle": false,
     "title": ""
    }
   },
   "outputs": [
    {
     "output_type": "display_data",
     "data": {
      "text/html": [
       "<style scoped>\n",
       "  .table-result-container {\n",
       "    max-height: 300px;\n",
       "    overflow: auto;\n",
       "  }\n",
       "  table, th, td {\n",
       "    border: 1px solid black;\n",
       "    border-collapse: collapse;\n",
       "  }\n",
       "  th, td {\n",
       "    padding: 5px;\n",
       "  }\n",
       "  th {\n",
       "    text-align: left;\n",
       "  }\n",
       "</style><div class='table-result-container'><table class='table-result'><thead style='background-color: white'><tr><th>category_id</th><th>video_id</th><th>trending_date</th><th>title</th><th>channel_title</th><th>publish_time</th><th>tags</th><th>views</th><th>likes</th><th>dislikes</th><th>comment_count</th><th>thumbnail_link</th><th>comments_disabled</th><th>ratings_disabled</th><th>video_error_or_removed</th><th>description</th><th>category_title</th></tr></thead><tbody><tr><td>25</td><td>rHwDegptbI4</td><td>17.14.11</td><td>Dashcam captures truck's near miss with child in Norway</td><td>Cute Girl Videos</td><td>2017-11-13T01:45:13.000Z</td><td>[none]</td><td>9815</td><td>30</td><td>2</td><td>30</td><td>https://i.ytimg.com/vi/rHwDegptbI4/default.jpg</td><td>False</td><td>False</td><td>False</td><td>Dashcam captures truck's near miss with child in Norway\\nThe close call happened as children were getting off a school bus in Norway.\\n\\nEurope\\nNorway</td><td>News & Politics</td></tr><tr><td>10</td><td>n1WpP7iowLc</td><td>17.14.11</td><td>Eminem - Walk On Water (Audio) ft. Beyoncé</td><td>EminemVEVO</td><td>2017-11-10T17:00:03.000Z</td><td>\"Eminem\"|\"Walk\"|\"On\"|\"Water\"|\"Aftermath/Shady/Interscope\"|\"Rap\"</td><td>17158579</td><td>787420</td><td>43420</td><td>125882</td><td>https://i.ytimg.com/vi/n1WpP7iowLc/default.jpg</td><td>False</td><td>False</td><td>False</td><td>Eminem's new track Walk on Water ft. Beyoncé is available everywhere: http://shady.sr/WOWEminem \\nPlaylist Best of Eminem: https://goo.gl/AquNpo\\nSubscribe for more: https://goo.gl/DxCrDV\\n\\nFor more visit: \\nhttp://eminem.com\\nhttp://facebook.com/eminem\\nhttp://twitter.com/eminem\\nhttp://instagram.com/eminem\\nhttp://eminem.tumblr.com\\nhttp://shadyrecords.com\\nhttp://facebook.com/shadyrecords\\nhttp://twitter.com/shadyrecords\\nhttp://instagram.com/shadyrecords\\nhttp://trustshady.tumblr.com\\n\\nMusic video by Eminem performing Walk On Water. (C) 2017 Aftermath Records\\nhttp://vevo.ly/gA7xKt</td><td>Music</td></tr><tr><td>26</td><td>Jw1Y-zhQURU</td><td>17.14.11</td><td>John Lewis Christmas Ad 2017 - #MozTheMonster</td><td>John Lewis</td><td>2017-11-10T07:38:29.000Z</td><td>\"christmas\"|\"john lewis christmas\"|\"john lewis\"|\"christmas ad\"|\"mozthemonster\"|\"christmas 2017\"|\"christmas ad 2017\"|\"john lewis christmas advert\"|\"moz\"</td><td>7224515</td><td>55681</td><td>10247</td><td>9479</td><td>https://i.ytimg.com/vi/Jw1Y-zhQURU/default.jpg</td><td>False</td><td>False</td><td>False</td><td>Click here to continue the story and make your own monster:\\nhttp://bit.ly/2mboXgj\\n\\nJoe befriends a noisy Monster under his bed but the two have so much fun together that he can't get to sleep, leaving him tired by day. For Christmas Joe receives a gift to help him finally get a good night’s sleep.\\n\\nShop the ad\\nhttp://bit.ly/2hg04Lc\\n\\nThe music is Golden Slumbers performed by elbow, the original song was by The Beatles. \\nFind the track:\\nhttps://Elbow.lnk.to/GoldenSlumbersXS\\n\\nSubscribe to this channel for regular video updates\\nhttp://bit.ly/2eU8MvW\\n\\nIf you want to hear more from John Lewis:\\n\\nLike John Lewis on Facebook\\nhttp://www.facebook.com/johnlewisretail\\n\\nFollow John Lewis on Twitter\\nhttp://twitter.com/johnlewisretail\\n\\nFollow John Lewis on Instagram\\nhttp://instagram.com/johnlewisretail</td><td>Howto & Style</td></tr><tr><td>17</td><td>PUTEiSjKwJU</td><td>17.14.11</td><td>Goals from Salford City vs Class of 92 and Friends at The Peninsula Stadium!</td><td>Salford City Football Club</td><td>2017-11-13T02:30:38.000Z</td><td>\"Salford City FC\"|\"Salford City\"|\"Salford\"|\"Class of 92\"|\"University of Salford\"|\"Salford Uni\"|\"Non League\"|\"National League\"|\"National League North\"</td><td>27833</td><td>193</td><td>12</td><td>37</td><td>https://i.ytimg.com/vi/PUTEiSjKwJU/default.jpg</td><td>False</td><td>False</td><td>False</td><td>Salford drew 4-4 against the Class of 92 and Friends at the newly opened The Peninsula Stadium!\\n\\nLike us on Facebook: https://www.facebook.com/SalfordCityFC/ \\nFollow us on Twitter: https://twitter.com/SalfordCityFC\\nFollow us on Instagram: https://www.instagram.com/salfordcityfc/ \\nSubscribe to us on YouTube: https://www.youtube.com/user/SalfordCityTV\\n\\nWebsite: https://salfordcityfc.co.uk</td><td>Sports</td></tr><tr><td>24</td><td>3s1rvMFUweQ</td><td>17.14.11</td><td>Taylor Swift: …Ready for It? (Live) - SNL</td><td>Saturday Night Live</td><td>2017-11-12T06:24:44.000Z</td><td>\"SNL\"|\"Saturday Night Live\"|\"SNL Season 43\"|\"Episode 1730\"|\"Tiffany Haddish\"|\"Taylor Swift\"|\"Taylor Swift Ready for It\"|\"s43\"|\"s43e5\"|\"episode 5\"|\"live\"|\"new york\"|\"comedy\"|\"sketch\"|\"funny\"|\"hilarious\"|\"late night\"|\"host\"|\"music\"|\"guest\"|\"laugh\"|\"impersonation\"|\"actor\"|\"improv\"|\"musician\"|\"comedian\"|\"actress\"|\"If Loving You Is Wrong\"|\"Oprah Winfrey\"|\"OWN\"|\"Girls Trip\"|\"The Carmichael Show\"|\"Keanu\"|\"Reputation\"|\"Look What You Made Me Do\"|\"ready for it?\"</td><td>1053632</td><td>25561</td><td>2294</td><td>2757</td><td>https://i.ytimg.com/vi/3s1rvMFUweQ/default.jpg</td><td>False</td><td>False</td><td>False</td><td>Musical guest Taylor Swift performs …Ready for It? on Saturday Night Live.\\n\\n#SNL #SNL43\\n\\nGet more SNL: http://www.nbc.com/saturday-night-live\\nFull Episodes: http://www.nbc.com/saturday-night-liv...\\n\\nLike SNL: https://www.facebook.com/snl\\nFollow SNL: https://twitter.com/nbcsnl\\nSNL Tumblr: http://nbcsnl.tumblr.com/\\nSNL Instagram: http://instagram.com/nbcsnl \\nSNL Pinterest: http://www.pinterest.com/nbcsnl/</td><td>Entertainment</td></tr></tbody></table></div>"
      ]
     },
     "metadata": {
      "application/vnd.databricks.v1+output": {
       "addedWidgets": {},
       "aggData": [],
       "aggError": "",
       "aggOverflow": false,
       "aggSchema": [],
       "aggSeriesLimitReached": false,
       "aggType": "",
       "arguments": {},
       "columnCustomDisplayInfos": {},
       "data": [
        [
         "25",
         "rHwDegptbI4",
         "17.14.11",
         "Dashcam captures truck's near miss with child in Norway",
         "Cute Girl Videos",
         "2017-11-13T01:45:13.000Z",
         "[none]",
         9815,
         30,
         2,
         30,
         "https://i.ytimg.com/vi/rHwDegptbI4/default.jpg",
         "False",
         "False",
         "False",
         "Dashcam captures truck's near miss with child in Norway\\nThe close call happened as children were getting off a school bus in Norway.\\n\\nEurope\\nNorway",
         "News & Politics"
        ],
        [
         "10",
         "n1WpP7iowLc",
         "17.14.11",
         "Eminem - Walk On Water (Audio) ft. Beyoncé",
         "EminemVEVO",
         "2017-11-10T17:00:03.000Z",
         "\"Eminem\"|\"Walk\"|\"On\"|\"Water\"|\"Aftermath/Shady/Interscope\"|\"Rap\"",
         17158579,
         787420,
         43420,
         125882,
         "https://i.ytimg.com/vi/n1WpP7iowLc/default.jpg",
         "False",
         "False",
         "False",
         "Eminem's new track Walk on Water ft. Beyoncé is available everywhere: http://shady.sr/WOWEminem \\nPlaylist Best of Eminem: https://goo.gl/AquNpo\\nSubscribe for more: https://goo.gl/DxCrDV\\n\\nFor more visit: \\nhttp://eminem.com\\nhttp://facebook.com/eminem\\nhttp://twitter.com/eminem\\nhttp://instagram.com/eminem\\nhttp://eminem.tumblr.com\\nhttp://shadyrecords.com\\nhttp://facebook.com/shadyrecords\\nhttp://twitter.com/shadyrecords\\nhttp://instagram.com/shadyrecords\\nhttp://trustshady.tumblr.com\\n\\nMusic video by Eminem performing Walk On Water. (C) 2017 Aftermath Records\\nhttp://vevo.ly/gA7xKt",
         "Music"
        ],
        [
         "26",
         "Jw1Y-zhQURU",
         "17.14.11",
         "John Lewis Christmas Ad 2017 - #MozTheMonster",
         "John Lewis",
         "2017-11-10T07:38:29.000Z",
         "\"christmas\"|\"john lewis christmas\"|\"john lewis\"|\"christmas ad\"|\"mozthemonster\"|\"christmas 2017\"|\"christmas ad 2017\"|\"john lewis christmas advert\"|\"moz\"",
         7224515,
         55681,
         10247,
         9479,
         "https://i.ytimg.com/vi/Jw1Y-zhQURU/default.jpg",
         "False",
         "False",
         "False",
         "Click here to continue the story and make your own monster:\\nhttp://bit.ly/2mboXgj\\n\\nJoe befriends a noisy Monster under his bed but the two have so much fun together that he can't get to sleep, leaving him tired by day. For Christmas Joe receives a gift to help him finally get a good night’s sleep.\\n\\nShop the ad\\nhttp://bit.ly/2hg04Lc\\n\\nThe music is Golden Slumbers performed by elbow, the original song was by The Beatles. \\nFind the track:\\nhttps://Elbow.lnk.to/GoldenSlumbersXS\\n\\nSubscribe to this channel for regular video updates\\nhttp://bit.ly/2eU8MvW\\n\\nIf you want to hear more from John Lewis:\\n\\nLike John Lewis on Facebook\\nhttp://www.facebook.com/johnlewisretail\\n\\nFollow John Lewis on Twitter\\nhttp://twitter.com/johnlewisretail\\n\\nFollow John Lewis on Instagram\\nhttp://instagram.com/johnlewisretail",
         "Howto & Style"
        ],
        [
         "17",
         "PUTEiSjKwJU",
         "17.14.11",
         "Goals from Salford City vs Class of 92 and Friends at The Peninsula Stadium!",
         "Salford City Football Club",
         "2017-11-13T02:30:38.000Z",
         "\"Salford City FC\"|\"Salford City\"|\"Salford\"|\"Class of 92\"|\"University of Salford\"|\"Salford Uni\"|\"Non League\"|\"National League\"|\"National League North\"",
         27833,
         193,
         12,
         37,
         "https://i.ytimg.com/vi/PUTEiSjKwJU/default.jpg",
         "False",
         "False",
         "False",
         "Salford drew 4-4 against the Class of 92 and Friends at the newly opened The Peninsula Stadium!\\n\\nLike us on Facebook: https://www.facebook.com/SalfordCityFC/ \\nFollow us on Twitter: https://twitter.com/SalfordCityFC\\nFollow us on Instagram: https://www.instagram.com/salfordcityfc/ \\nSubscribe to us on YouTube: https://www.youtube.com/user/SalfordCityTV\\n\\nWebsite: https://salfordcityfc.co.uk",
         "Sports"
        ],
        [
         "24",
         "3s1rvMFUweQ",
         "17.14.11",
         "Taylor Swift: …Ready for It? (Live) - SNL",
         "Saturday Night Live",
         "2017-11-12T06:24:44.000Z",
         "\"SNL\"|\"Saturday Night Live\"|\"SNL Season 43\"|\"Episode 1730\"|\"Tiffany Haddish\"|\"Taylor Swift\"|\"Taylor Swift Ready for It\"|\"s43\"|\"s43e5\"|\"episode 5\"|\"live\"|\"new york\"|\"comedy\"|\"sketch\"|\"funny\"|\"hilarious\"|\"late night\"|\"host\"|\"music\"|\"guest\"|\"laugh\"|\"impersonation\"|\"actor\"|\"improv\"|\"musician\"|\"comedian\"|\"actress\"|\"If Loving You Is Wrong\"|\"Oprah Winfrey\"|\"OWN\"|\"Girls Trip\"|\"The Carmichael Show\"|\"Keanu\"|\"Reputation\"|\"Look What You Made Me Do\"|\"ready for it?\"",
         1053632,
         25561,
         2294,
         2757,
         "https://i.ytimg.com/vi/3s1rvMFUweQ/default.jpg",
         "False",
         "False",
         "False",
         "Musical guest Taylor Swift performs …Ready for It? on Saturday Night Live.\\n\\n#SNL #SNL43\\n\\nGet more SNL: http://www.nbc.com/saturday-night-live\\nFull Episodes: http://www.nbc.com/saturday-night-liv...\\n\\nLike SNL: https://www.facebook.com/snl\\nFollow SNL: https://twitter.com/nbcsnl\\nSNL Tumblr: http://nbcsnl.tumblr.com/\\nSNL Instagram: http://instagram.com/nbcsnl \\nSNL Pinterest: http://www.pinterest.com/nbcsnl/",
         "Entertainment"
        ]
       ],
       "datasetInfos": [],
       "dbfsResultPath": null,
       "isJsonSchema": true,
       "metadata": {},
       "overflow": false,
       "plotOptions": {
        "customPlotOptions": {},
        "displayType": "table",
        "pivotAggregation": null,
        "pivotColumns": null,
        "xColumns": null,
        "yColumns": null
       },
       "removedWidgets": [],
       "schema": [
        {
         "metadata": "{}",
         "name": "category_id",
         "type": "\"string\""
        },
        {
         "metadata": "{}",
         "name": "video_id",
         "type": "\"string\""
        },
        {
         "metadata": "{}",
         "name": "trending_date",
         "type": "\"string\""
        },
        {
         "metadata": "{}",
         "name": "title",
         "type": "\"string\""
        },
        {
         "metadata": "{}",
         "name": "channel_title",
         "type": "\"string\""
        },
        {
         "metadata": "{}",
         "name": "publish_time",
         "type": "\"string\""
        },
        {
         "metadata": "{}",
         "name": "tags",
         "type": "\"string\""
        },
        {
         "metadata": "{}",
         "name": "views",
         "type": "\"integer\""
        },
        {
         "metadata": "{}",
         "name": "likes",
         "type": "\"integer\""
        },
        {
         "metadata": "{}",
         "name": "dislikes",
         "type": "\"integer\""
        },
        {
         "metadata": "{}",
         "name": "comment_count",
         "type": "\"integer\""
        },
        {
         "metadata": "{}",
         "name": "thumbnail_link",
         "type": "\"string\""
        },
        {
         "metadata": "{}",
         "name": "comments_disabled",
         "type": "\"string\""
        },
        {
         "metadata": "{}",
         "name": "ratings_disabled",
         "type": "\"string\""
        },
        {
         "metadata": "{}",
         "name": "video_error_or_removed",
         "type": "\"string\""
        },
        {
         "metadata": "{}",
         "name": "description",
         "type": "\"string\""
        },
        {
         "metadata": "{}",
         "name": "category_title",
         "type": "\"string\""
        }
       ],
       "type": "table"
      }
     },
     "output_type": "display_data"
    }
   ],
   "source": [
    "joined_df.limit(5).display()"
   ]
  },
  {
   "cell_type": "markdown",
   "metadata": {
    "application/vnd.databricks.v1+cell": {
     "cellMetadata": {
      "byteLimit": 2048000,
      "rowLimit": 10000
     },
     "inputWidgets": {},
     "nuid": "0eb87728-89e7-4798-a19b-f5eb79d57dae",
     "showTitle": false,
     "title": ""
    }
   },
   "source": [
    "The **joined_df** now successfully contains information both about the Youtube videos and their category."
   ]
  },
  {
   "cell_type": "code",
   "execution_count": 0,
   "metadata": {
    "application/vnd.databricks.v1+cell": {
     "cellMetadata": {
      "byteLimit": 2048000,
      "rowLimit": 10000
     },
     "inputWidgets": {},
     "nuid": "55b803cb-e03b-4639-a984-5e0543557cc3",
     "showTitle": false,
     "title": ""
    }
   },
   "outputs": [],
   "source": []
  },
  {
   "cell_type": "markdown",
   "metadata": {
    "application/vnd.databricks.v1+cell": {
     "cellMetadata": {
      "byteLimit": 2048000,
      "rowLimit": 10000
     },
     "inputWidgets": {},
     "nuid": "21a56692-57cb-48c4-9b85-74ba9ec4d227",
     "showTitle": false,
     "title": ""
    }
   },
   "source": []
  },
  {
   "cell_type": "markdown",
   "metadata": {
    "application/vnd.databricks.v1+cell": {
     "cellMetadata": {
      "byteLimit": 2048000,
      "rowLimit": 10000
     },
     "inputWidgets": {},
     "nuid": "5acb5612-e748-427d-b6e5-5f9c6cfee63d",
     "showTitle": false,
     "title": ""
    }
   },
   "source": [
    "## Analysis"
   ]
  },
  {
   "cell_type": "markdown",
   "metadata": {
    "application/vnd.databricks.v1+cell": {
     "cellMetadata": {
      "byteLimit": 2048000,
      "rowLimit": 10000
     },
     "inputWidgets": {},
     "nuid": "4747c2b5-65fe-40f3-a5b7-4c089cc27053",
     "showTitle": false,
     "title": ""
    }
   },
   "source": [
    "### Distribution of views across different categories of YouTube trending videos"
   ]
  },
  {
   "cell_type": "markdown",
   "metadata": {
    "application/vnd.databricks.v1+cell": {
     "cellMetadata": {
      "byteLimit": 2048000,
      "rowLimit": 10000
     },
     "inputWidgets": {},
     "nuid": "dd6c9d69-a564-4c95-8e4b-52e77a1fe196",
     "showTitle": false,
     "title": ""
    }
   },
   "source": [
    "I will explore the distribution of views across different categories of YouTube trending videos to understand which categories are most popular by taking the average views per category."
   ]
  },
  {
   "cell_type": "markdown",
   "metadata": {
    "application/vnd.databricks.v1+cell": {
     "cellMetadata": {
      "byteLimit": 2048000,
      "rowLimit": 10000
     },
     "inputWidgets": {},
     "nuid": "b7ce105b-6a5b-4734-8d79-28cf5e06fc5d",
     "showTitle": false,
     "title": ""
    }
   },
   "source": [
    "First, I will create a new dataframe by selecting category_title and views from joined_df."
   ]
  },
  {
   "cell_type": "code",
   "execution_count": 0,
   "metadata": {
    "application/vnd.databricks.v1+cell": {
     "cellMetadata": {
      "byteLimit": 2048000,
      "rowLimit": 10000
     },
     "inputWidgets": {},
     "nuid": "80cefd11-c6ce-45b7-a32d-91935d2da324",
     "showTitle": false,
     "title": ""
    }
   },
   "outputs": [],
   "source": [
    "category_views_df = joined_df.select(\"category_title\", \"views\")"
   ]
  },
  {
   "cell_type": "markdown",
   "metadata": {
    "application/vnd.databricks.v1+cell": {
     "cellMetadata": {
      "byteLimit": 2048000,
      "rowLimit": 10000
     },
     "inputWidgets": {},
     "nuid": "48199c12-7446-419e-917a-942969faebd4",
     "showTitle": false,
     "title": ""
    }
   },
   "source": [
    "Display the first 6 rows of category_views_df."
   ]
  },
  {
   "cell_type": "code",
   "execution_count": 0,
   "metadata": {
    "application/vnd.databricks.v1+cell": {
     "cellMetadata": {
      "byteLimit": 2048000,
      "rowLimit": 10000
     },
     "inputWidgets": {},
     "nuid": "4a74141a-fe0d-4c9a-bd88-23b60ea7732d",
     "showTitle": false,
     "title": ""
    }
   },
   "outputs": [
    {
     "output_type": "display_data",
     "data": {
      "text/html": [
       "<style scoped>\n",
       "  .table-result-container {\n",
       "    max-height: 300px;\n",
       "    overflow: auto;\n",
       "  }\n",
       "  table, th, td {\n",
       "    border: 1px solid black;\n",
       "    border-collapse: collapse;\n",
       "  }\n",
       "  th, td {\n",
       "    padding: 5px;\n",
       "  }\n",
       "  th {\n",
       "    text-align: left;\n",
       "  }\n",
       "</style><div class='table-result-container'><table class='table-result'><thead style='background-color: white'><tr><th>category_title</th><th>views</th></tr></thead><tbody><tr><td>Entertainment</td><td>1182775</td></tr><tr><td>News & Politics</td><td>9815</td></tr><tr><td>Music</td><td>17158579</td></tr><tr><td>Howto & Style</td><td>7224515</td></tr><tr><td>Sports</td><td>27833</td></tr><tr><td>Entertainment</td><td>1053632</td></tr></tbody></table></div>"
      ]
     },
     "metadata": {
      "application/vnd.databricks.v1+output": {
       "addedWidgets": {},
       "aggData": [],
       "aggError": "",
       "aggOverflow": false,
       "aggSchema": [],
       "aggSeriesLimitReached": false,
       "aggType": "",
       "arguments": {},
       "columnCustomDisplayInfos": {},
       "data": [
        [
         "Entertainment",
         1182775
        ],
        [
         "News & Politics",
         9815
        ],
        [
         "Music",
         17158579
        ],
        [
         "Howto & Style",
         7224515
        ],
        [
         "Sports",
         27833
        ],
        [
         "Entertainment",
         1053632
        ]
       ],
       "datasetInfos": [],
       "dbfsResultPath": null,
       "isJsonSchema": true,
       "metadata": {},
       "overflow": false,
       "plotOptions": {
        "customPlotOptions": {},
        "displayType": "table",
        "pivotAggregation": null,
        "pivotColumns": null,
        "xColumns": null,
        "yColumns": null
       },
       "removedWidgets": [],
       "schema": [
        {
         "metadata": "{}",
         "name": "category_title",
         "type": "\"string\""
        },
        {
         "metadata": "{}",
         "name": "views",
         "type": "\"integer\""
        }
       ],
       "type": "table"
      }
     },
     "output_type": "display_data"
    }
   ],
   "source": [
    "category_views_df.limit(6).display()"
   ]
  },
  {
   "cell_type": "markdown",
   "metadata": {
    "application/vnd.databricks.v1+cell": {
     "cellMetadata": {
      "byteLimit": 2048000,
      "rowLimit": 10000
     },
     "inputWidgets": {},
     "nuid": "9c81bf1a-fdb2-4a86-9d2b-dc78a06416ab",
     "showTitle": false,
     "title": ""
    }
   },
   "source": [
    "This now needs to be aggregated per category. I will group by category_title and count the total views."
   ]
  },
  {
   "cell_type": "code",
   "execution_count": 0,
   "metadata": {
    "application/vnd.databricks.v1+cell": {
     "cellMetadata": {
      "byteLimit": 2048000,
      "rowLimit": 10000
     },
     "inputWidgets": {},
     "nuid": "19c0bdb3-208b-4703-928c-bb2e9a3e145e",
     "showTitle": false,
     "title": ""
    }
   },
   "outputs": [],
   "source": [
    "views_per_category = category_views_df.groupBy(\"category_title\").sum(\"views\")"
   ]
  },
  {
   "cell_type": "markdown",
   "metadata": {
    "application/vnd.databricks.v1+cell": {
     "cellMetadata": {
      "byteLimit": 2048000,
      "rowLimit": 10000
     },
     "inputWidgets": {},
     "nuid": "989f0295-a788-4465-b390-4b86a7f8e6af",
     "showTitle": false,
     "title": ""
    }
   },
   "source": [
    "Display the views_per_category dataframe."
   ]
  },
  {
   "cell_type": "code",
   "execution_count": 0,
   "metadata": {
    "application/vnd.databricks.v1+cell": {
     "cellMetadata": {
      "byteLimit": 2048000,
      "rowLimit": 10000
     },
     "inputWidgets": {},
     "nuid": "9eaaae27-87d9-4bdd-a19a-ac37b434224b",
     "showTitle": false,
     "title": ""
    }
   },
   "outputs": [
    {
     "output_type": "display_data",
     "data": {
      "text/html": [
       "<style scoped>\n",
       "  .table-result-container {\n",
       "    max-height: 300px;\n",
       "    overflow: auto;\n",
       "  }\n",
       "  table, th, td {\n",
       "    border: 1px solid black;\n",
       "    border-collapse: collapse;\n",
       "  }\n",
       "  th, td {\n",
       "    padding: 5px;\n",
       "  }\n",
       "  th {\n",
       "    text-align: left;\n",
       "  }\n",
       "</style><div class='table-result-container'><table class='table-result'><thead style='background-color: white'><tr><th>category_title</th><th>sum(views)</th></tr></thead><tbody><tr><td>Shows</td><td>28583283</td></tr><tr><td>Education</td><td>444290557</td></tr><tr><td>Gaming</td><td>1742525879</td></tr><tr><td>Entertainment</td><td>29614782333</td></tr><tr><td>Travel & Events</td><td>132784993</td></tr><tr><td>Science & Technology</td><td>1629801152</td></tr><tr><td>Sports</td><td>3337955656</td></tr><tr><td>null</td><td>352798262</td></tr><tr><td>Howto & Style</td><td>1190155227</td></tr><tr><td>Film & Animation</td><td>8313953048</td></tr><tr><td>People & Blogs</td><td>5744816040</td></tr><tr><td>News & Politics</td><td>1387820017</td></tr><tr><td>Pets & Animals</td><td>538194801</td></tr><tr><td>Autos & Vehicles</td><td>214184514</td></tr><tr><td>Music</td><td>170421287915</td></tr><tr><td>Comedy</td><td>3939099951</td></tr></tbody></table></div>"
      ]
     },
     "metadata": {
      "application/vnd.databricks.v1+output": {
       "addedWidgets": {},
       "aggData": [],
       "aggError": "",
       "aggOverflow": false,
       "aggSchema": [],
       "aggSeriesLimitReached": false,
       "aggType": "",
       "arguments": {},
       "columnCustomDisplayInfos": {},
       "data": [
        [
         "Shows",
         28583283
        ],
        [
         "Education",
         444290557
        ],
        [
         "Gaming",
         1742525879
        ],
        [
         "Entertainment",
         29614782333
        ],
        [
         "Travel & Events",
         132784993
        ],
        [
         "Science & Technology",
         1629801152
        ],
        [
         "Sports",
         3337955656
        ],
        [
         null,
         352798262
        ],
        [
         "Howto & Style",
         1190155227
        ],
        [
         "Film & Animation",
         8313953048
        ],
        [
         "People & Blogs",
         5744816040
        ],
        [
         "News & Politics",
         1387820017
        ],
        [
         "Pets & Animals",
         538194801
        ],
        [
         "Autos & Vehicles",
         214184514
        ],
        [
         "Music",
         170421287915
        ],
        [
         "Comedy",
         3939099951
        ]
       ],
       "datasetInfos": [],
       "dbfsResultPath": null,
       "isJsonSchema": true,
       "metadata": {},
       "overflow": false,
       "plotOptions": {
        "customPlotOptions": {},
        "displayType": "table",
        "pivotAggregation": null,
        "pivotColumns": null,
        "xColumns": null,
        "yColumns": null
       },
       "removedWidgets": [],
       "schema": [
        {
         "metadata": "{}",
         "name": "category_title",
         "type": "\"string\""
        },
        {
         "metadata": "{}",
         "name": "sum(views)",
         "type": "\"long\""
        }
       ],
       "type": "table"
      }
     },
     "output_type": "display_data"
    }
   ],
   "source": [
    "views_per_category.display()"
   ]
  },
  {
   "cell_type": "markdown",
   "metadata": {
    "application/vnd.databricks.v1+cell": {
     "cellMetadata": {
      "byteLimit": 2048000,
      "rowLimit": 10000
     },
     "inputWidgets": {},
     "nuid": "906e2055-6183-4b53-b96f-26de835109c1",
     "showTitle": false,
     "title": ""
    }
   },
   "source": [
    "I wil now create a bar chart to display the contents of this dataframe in a visual form."
   ]
  },
  {
   "cell_type": "code",
   "execution_count": 0,
   "metadata": {
    "application/vnd.databricks.v1+cell": {
     "cellMetadata": {
      "byteLimit": 2048000,
      "rowLimit": 10000
     },
     "inputWidgets": {},
     "nuid": "05f1207a-8a1d-41c0-b15a-e77f491f4325",
     "showTitle": false,
     "title": ""
    }
   },
   "outputs": [
    {
     "output_type": "display_data",
     "data": {
      "text/html": [
       "<style scoped>\n",
       "  .table-result-container {\n",
       "    max-height: 300px;\n",
       "    overflow: auto;\n",
       "  }\n",
       "  table, th, td {\n",
       "    border: 1px solid black;\n",
       "    border-collapse: collapse;\n",
       "  }\n",
       "  th, td {\n",
       "    padding: 5px;\n",
       "  }\n",
       "  th {\n",
       "    text-align: left;\n",
       "  }\n",
       "</style><div class='table-result-container'><table class='table-result'><thead style='background-color: white'><tr><th>category_title</th><th>sum(views)</th></tr></thead><tbody><tr><td>Shows</td><td>28583283</td></tr><tr><td>Education</td><td>444290557</td></tr><tr><td>Gaming</td><td>1742525879</td></tr><tr><td>Entertainment</td><td>29614782333</td></tr><tr><td>Travel & Events</td><td>132784993</td></tr><tr><td>Science & Technology</td><td>1629801152</td></tr><tr><td>Sports</td><td>3337955656</td></tr><tr><td>null</td><td>352798262</td></tr><tr><td>Howto & Style</td><td>1190155227</td></tr><tr><td>Film & Animation</td><td>8313953048</td></tr><tr><td>People & Blogs</td><td>5744816040</td></tr><tr><td>News & Politics</td><td>1387820017</td></tr><tr><td>Pets & Animals</td><td>538194801</td></tr><tr><td>Autos & Vehicles</td><td>214184514</td></tr><tr><td>Music</td><td>170421287915</td></tr><tr><td>Comedy</td><td>3939099951</td></tr></tbody></table></div>"
      ]
     },
     "metadata": {
      "application/vnd.databricks.v1+output": {
       "addedWidgets": {},
       "aggData": [],
       "aggError": "",
       "aggOverflow": false,
       "aggSchema": [],
       "aggSeriesLimitReached": false,
       "aggType": "",
       "arguments": {},
       "columnCustomDisplayInfos": {},
       "data": [
        [
         "Shows",
         28583283
        ],
        [
         "Education",
         444290557
        ],
        [
         "Gaming",
         1742525879
        ],
        [
         "Entertainment",
         29614782333
        ],
        [
         "Travel & Events",
         132784993
        ],
        [
         "Science & Technology",
         1629801152
        ],
        [
         "Sports",
         3337955656
        ],
        [
         null,
         352798262
        ],
        [
         "Howto & Style",
         1190155227
        ],
        [
         "Film & Animation",
         8313953048
        ],
        [
         "People & Blogs",
         5744816040
        ],
        [
         "News & Politics",
         1387820017
        ],
        [
         "Pets & Animals",
         538194801
        ],
        [
         "Autos & Vehicles",
         214184514
        ],
        [
         "Music",
         170421287915
        ],
        [
         "Comedy",
         3939099951
        ]
       ],
       "datasetInfos": [],
       "dbfsResultPath": null,
       "isJsonSchema": true,
       "metadata": {},
       "overflow": false,
       "plotOptions": {
        "customPlotOptions": {},
        "displayType": "table",
        "pivotAggregation": null,
        "pivotColumns": null,
        "xColumns": null,
        "yColumns": null
       },
       "removedWidgets": [],
       "schema": [
        {
         "metadata": "{}",
         "name": "category_title",
         "type": "\"string\""
        },
        {
         "metadata": "{}",
         "name": "sum(views)",
         "type": "\"long\""
        }
       ],
       "type": "table"
      }
     },
     "output_type": "display_data"
    },
    {
     "output_type": "display_data",
     "data": {
      "text/plain": [
       "Databricks visualization. Run in Databricks to view."
      ]
     },
     "metadata": {
      "application/vnd.databricks.v1.subcommand+json": {
       "baseErrorDetails": null,
       "bindings": {},
       "collapsed": false,
       "command": "%python\n__backend_agg_display_orig = display\n__backend_agg_dfs = []\ndef __backend_agg_display_new(df):\n    __backend_agg_df_modules = [\"pandas.core.frame\", \"databricks.koalas.frame\", \"pyspark.sql.dataframe\", \"pyspark.pandas.frame\", \"pyspark.sql.connect.dataframe\"]\n    if (type(df).__module__ in __backend_agg_df_modules and type(df).__name__ == 'DataFrame') or isinstance(df, list):\n        __backend_agg_dfs.append(df)\n\ndisplay = __backend_agg_display_new\n\ndef __backend_agg_user_code_fn():\n    import base64\n    exec(base64.standard_b64decode(\"dmlld3NfcGVyX2NhdGVnb3J5LmRpc3BsYXkoKQ==\").decode())\n\ntry:\n    # run user code\n    __backend_agg_user_code_fn()\n\n    #reset display function\n    display = __backend_agg_display_orig\n\n    if len(__backend_agg_dfs) > 0:\n        # create a temp view\n        if type(__backend_agg_dfs[0]).__module__ == \"databricks.koalas.frame\":\n            # koalas dataframe\n            __backend_agg_dfs[0].to_spark().createOrReplaceTempView(\"DatabricksViewabffda9\")\n        elif type(__backend_agg_dfs[0]).__module__ == \"pandas.core.frame\" or isinstance(__backend_agg_dfs[0], list):\n            # pandas dataframe\n            spark.createDataFrame(__backend_agg_dfs[0]).createOrReplaceTempView(\"DatabricksViewabffda9\")\n        else:\n            __backend_agg_dfs[0].createOrReplaceTempView(\"DatabricksViewabffda9\")\n        #run backend agg\n        display(spark.sql(\"\"\"WITH q AS (select * from DatabricksViewabffda9) SELECT `category_title`,SUM(`sum(views)`) `column_44442e592` FROM q GROUP BY `category_title`\"\"\"))\n    else:\n        displayHTML(\"dataframe no longer exists. If you're using dataframe.display(), use display(dataframe) instead.\")\n\n\nfinally:\n    spark.sql(\"drop view if exists DatabricksViewabffda9\")\n    display = __backend_agg_display_orig\n    del __backend_agg_display_new\n    del __backend_agg_display_orig\n    del __backend_agg_dfs\n    del __backend_agg_user_code_fn\n\n",
       "commandTitle": "Total Views per Category",
       "commandType": "auto",
       "commandVersion": 0,
       "commentThread": [],
       "commentsVisible": false,
       "contentSha256Hex": null,
       "customPlotOptions": {
        "redashChart": [
         {
          "key": "type",
          "value": "CHART"
         },
         {
          "key": "options",
          "value": {
           "alignYAxesAtZero": true,
           "coefficient": 1,
           "columnConfigurationMap": {
            "x": {
             "column": "category_title",
             "id": "column_44442e591"
            },
            "y": [
             {
              "column": "sum(views)",
              "id": "column_44442e592",
              "transform": "SUM"
             }
            ]
           },
           "dateTimeFormat": "DD/MM/YYYY HH:mm",
           "direction": {
            "type": "counterclockwise"
           },
           "error_y": {
            "type": "data",
            "visible": true
           },
           "globalSeriesType": "column",
           "isAggregationOn": true,
           "legend": {
            "traceorder": "normal"
           },
           "missingValuesAsZero": true,
           "numberFormat": "0,0.[00000]",
           "percentFormat": "0[.]00%",
           "reverseX": false,
           "series": {
            "error_y": {
             "type": "data",
             "visible": true
            },
            "stacking": ""
           },
           "seriesOptions": {
            "column_44442e592": {
             "name": "sum(views)",
             "yAxis": 0
            }
           },
           "showDataLabels": false,
           "sizemode": "diameter",
           "sortX": true,
           "sortY": true,
           "swappedAxes": true,
           "textFormat": "",
           "useAggregationsUi": true,
           "valuesOptions": {},
           "version": 2,
           "xAxis": {
            "labels": {
             "enabled": true
            },
            "title": {
             "text": "Category Title"
            },
            "type": "-"
           },
           "yAxis": [
            {
             "title": {
              "text": "Total Views"
             },
             "type": "-"
            },
            {
             "opposite": true,
             "type": "-"
            }
           ]
          }
         }
        ]
       },
       "datasetPreviewNameToCmdIdMap": {},
       "diffDeletes": [],
       "diffInserts": [],
       "displayType": "redashChart",
       "error": null,
       "errorDetails": null,
       "errorSummary": null,
       "errorTraceType": null,
       "finishTime": 0,
       "globalVars": {},
       "guid": "",
       "height": "auto",
       "hideCommandCode": false,
       "hideCommandResult": false,
       "iPythonMetadata": null,
       "inputWidgets": {},
       "isLockedInExamMode": false,
       "latestUser": "a user",
       "latestUserId": null,
       "listResultMetadata": null,
       "metadata": {
        "byteLimit": 2048000,
        "rowLimit": 10000
       },
       "nuid": "510d0de7-6887-4f7b-98d9-7777eee13d6a",
       "origId": 0,
       "parentHierarchy": [],
       "pivotAggregation": null,
       "pivotColumns": null,
       "position": 49.0,
       "resultDbfsErrorMessage": null,
       "resultDbfsStatus": "INLINED_IN_TREE",
       "results": null,
       "showCommandTitle": false,
       "startTime": 0,
       "state": "input",
       "streamStates": {},
       "subcommandOptions": {
        "queryPlan": {
         "groups": [
          {
           "column": "category_title",
           "type": "column"
          }
         ],
         "selects": [
          {
           "column": "category_title",
           "type": "column"
          },
          {
           "alias": "column_44442e592",
           "args": [
            {
             "column": "sum(views)",
             "type": "column"
            }
           ],
           "function": "SUM",
           "type": "function"
          }
         ]
        }
       },
       "submitTime": 0,
       "subtype": "tableResultSubCmd.visualization",
       "tableResultIndex": 0,
       "useConsistentColors": false,
       "version": "CommandV1",
       "width": "auto",
       "workflows": [],
       "xColumns": null,
       "yColumns": null
      }
     },
     "output_type": "display_data"
    }
   ],
   "source": [
    "views_per_category.display()"
   ]
  },
  {
   "cell_type": "markdown",
   "metadata": {
    "application/vnd.databricks.v1+cell": {
     "cellMetadata": {
      "byteLimit": 2048000,
      "rowLimit": 10000
     },
     "inputWidgets": {},
     "nuid": "7c2310da-1661-46c8-801e-5c9f53cf1b13",
     "showTitle": false,
     "title": ""
    }
   },
   "source": [
    "#### Conclusions"
   ]
  },
  {
   "cell_type": "markdown",
   "metadata": {
    "application/vnd.databricks.v1+cell": {
     "cellMetadata": {
      "byteLimit": 2048000,
      "rowLimit": 10000
     },
     "inputWidgets": {},
     "nuid": "2e61eae3-dfa0-4022-a614-5e70d1f567d0",
     "showTitle": false,
     "title": ""
    }
   },
   "source": [
    "The bar chart shows an overwhemling result for Music that has over 170 billion views on YouTube and is the most popular category. Other top categories that perform well in terms of views is Entertainment, Film & Animation and People & Blogs. Content creators can use this information to decide what category to cater their content towards. Viewership in a specific category means that users of Youtube are interested in that topic. This can lead to higher ad revenue from more views as content creators cater toward higher viewed categories."
   ]
  },
  {
   "cell_type": "markdown",
   "metadata": {
    "application/vnd.databricks.v1+cell": {
     "cellMetadata": {
      "byteLimit": 2048000,
      "rowLimit": 10000
     },
     "inputWidgets": {},
     "nuid": "85f042ff-f440-4c21-b542-91c73cf29b0e",
     "showTitle": false,
     "title": ""
    }
   },
   "source": [
    "### Correlation between likes, dislikes, and comment count for YouTube trending videos"
   ]
  },
  {
   "cell_type": "markdown",
   "metadata": {
    "application/vnd.databricks.v1+cell": {
     "cellMetadata": {
      "byteLimit": 2048000,
      "rowLimit": 10000
     },
     "inputWidgets": {},
     "nuid": "fc06ce20-504c-4e92-b9c1-fff1f99b5977",
     "showTitle": false,
     "title": ""
    }
   },
   "source": [
    "I will analyse the correlation between likes, dislikes, and comment count for YouTube trending videos per category to understand engagement patterns. I will also be able to understand the relationships between these metrics to identify any patterns or trends."
   ]
  },
  {
   "cell_type": "markdown",
   "metadata": {
    "application/vnd.databricks.v1+cell": {
     "cellMetadata": {
      "byteLimit": 2048000,
      "rowLimit": 10000
     },
     "inputWidgets": {},
     "nuid": "477faf55-cb95-4ae0-a300-a5026c90af2c",
     "showTitle": false,
     "title": ""
    }
   },
   "source": [
    "First, i will create a new dataframe by selecting likes and dislikes from joined_df."
   ]
  },
  {
   "cell_type": "code",
   "execution_count": 0,
   "metadata": {
    "application/vnd.databricks.v1+cell": {
     "cellMetadata": {
      "byteLimit": 2048000,
      "rowLimit": 10000
     },
     "inputWidgets": {},
     "nuid": "c0b60395-62a2-4609-a73e-d276de53eda4",
     "showTitle": false,
     "title": ""
    }
   },
   "outputs": [],
   "source": [
    "engagement_df = joined_df.select(\"likes\", \"dislikes\")"
   ]
  },
  {
   "cell_type": "markdown",
   "metadata": {
    "application/vnd.databricks.v1+cell": {
     "cellMetadata": {
      "byteLimit": 2048000,
      "rowLimit": 10000
     },
     "inputWidgets": {},
     "nuid": "c14bfc53-a00a-4907-bf97-265a752f74d9",
     "showTitle": false,
     "title": ""
    }
   },
   "source": [
    "Display the first 5 rows of engagement_df."
   ]
  },
  {
   "cell_type": "code",
   "execution_count": 0,
   "metadata": {
    "application/vnd.databricks.v1+cell": {
     "cellMetadata": {
      "byteLimit": 2048000,
      "rowLimit": 10000
     },
     "inputWidgets": {},
     "nuid": "de67c8f6-93ce-4693-bdb6-fe7910baeddd",
     "showTitle": false,
     "title": ""
    }
   },
   "outputs": [
    {
     "output_type": "display_data",
     "data": {
      "text/html": [
       "<style scoped>\n",
       "  .table-result-container {\n",
       "    max-height: 300px;\n",
       "    overflow: auto;\n",
       "  }\n",
       "  table, th, td {\n",
       "    border: 1px solid black;\n",
       "    border-collapse: collapse;\n",
       "  }\n",
       "  th, td {\n",
       "    padding: 5px;\n",
       "  }\n",
       "  th {\n",
       "    text-align: left;\n",
       "  }\n",
       "</style><div class='table-result-container'><table class='table-result'><thead style='background-color: white'><tr><th>likes</th><th>dislikes</th></tr></thead><tbody><tr><td>30</td><td>2</td></tr><tr><td>787420</td><td>43420</td></tr><tr><td>55681</td><td>10247</td></tr><tr><td>193</td><td>12</td></tr><tr><td>25561</td><td>2294</td></tr></tbody></table></div>"
      ]
     },
     "metadata": {
      "application/vnd.databricks.v1+output": {
       "addedWidgets": {},
       "aggData": [],
       "aggError": "",
       "aggOverflow": false,
       "aggSchema": [],
       "aggSeriesLimitReached": false,
       "aggType": "",
       "arguments": {},
       "columnCustomDisplayInfos": {},
       "data": [
        [
         30,
         2
        ],
        [
         787420,
         43420
        ],
        [
         55681,
         10247
        ],
        [
         193,
         12
        ],
        [
         25561,
         2294
        ]
       ],
       "datasetInfos": [],
       "dbfsResultPath": null,
       "isJsonSchema": true,
       "metadata": {},
       "overflow": false,
       "plotOptions": {
        "customPlotOptions": {},
        "displayType": "table",
        "pivotAggregation": null,
        "pivotColumns": null,
        "xColumns": null,
        "yColumns": null
       },
       "removedWidgets": [],
       "schema": [
        {
         "metadata": "{}",
         "name": "likes",
         "type": "\"integer\""
        },
        {
         "metadata": "{}",
         "name": "dislikes",
         "type": "\"integer\""
        }
       ],
       "type": "table"
      }
     },
     "output_type": "display_data"
    }
   ],
   "source": [
    "engagement_df.limit(5).display()"
   ]
  },
  {
   "cell_type": "markdown",
   "metadata": {
    "application/vnd.databricks.v1+cell": {
     "cellMetadata": {
      "byteLimit": 2048000,
      "rowLimit": 10000
     },
     "inputWidgets": {},
     "nuid": "b071002d-ede4-4ca3-8cee-53b2d3c638fa",
     "showTitle": false,
     "title": ""
    }
   },
   "source": [
    "Count the total for each column and display the new dataframe."
   ]
  },
  {
   "cell_type": "code",
   "execution_count": 0,
   "metadata": {
    "application/vnd.databricks.v1+cell": {
     "cellMetadata": {
      "byteLimit": 2048000,
      "rowLimit": 10000
     },
     "inputWidgets": {},
     "nuid": "1619d064-58fa-4c9d-bd61-419912059597",
     "showTitle": false,
     "title": ""
    }
   },
   "outputs": [
    {
     "output_type": "display_data",
     "data": {
      "text/html": [
       "<style scoped>\n",
       "  .table-result-container {\n",
       "    max-height: 300px;\n",
       "    overflow: auto;\n",
       "  }\n",
       "  table, th, td {\n",
       "    border: 1px solid black;\n",
       "    border-collapse: collapse;\n",
       "  }\n",
       "  th, td {\n",
       "    padding: 5px;\n",
       "  }\n",
       "  th {\n",
       "    text-align: left;\n",
       "  }\n",
       "</style><div class='table-result-container'><table class='table-result'><thead style='background-color: white'><tr><th>sum(dislikes)</th><th>sum(likes)</th></tr></thead><tbody><tr><td>294684009</td><td>5209935076</td></tr></tbody></table></div>"
      ]
     },
     "metadata": {
      "application/vnd.databricks.v1+output": {
       "addedWidgets": {},
       "aggData": [],
       "aggError": "",
       "aggOverflow": false,
       "aggSchema": [],
       "aggSeriesLimitReached": false,
       "aggType": "",
       "arguments": {},
       "columnCustomDisplayInfos": {},
       "data": [
        [
         294684009,
         5209935076
        ]
       ],
       "datasetInfos": [],
       "dbfsResultPath": null,
       "isJsonSchema": true,
       "metadata": {},
       "overflow": false,
       "plotOptions": {
        "customPlotOptions": {},
        "displayType": "table",
        "pivotAggregation": null,
        "pivotColumns": null,
        "xColumns": null,
        "yColumns": null
       },
       "removedWidgets": [],
       "schema": [
        {
         "metadata": "{}",
         "name": "sum(dislikes)",
         "type": "\"long\""
        },
        {
         "metadata": "{}",
         "name": "sum(likes)",
         "type": "\"long\""
        }
       ],
       "type": "table"
      }
     },
     "output_type": "display_data"
    }
   ],
   "source": [
    "total_engagement_df = engagement_df.agg({\"likes\": \"sum\", \"dislikes\": \"sum\"})\n",
    "total_engagement_df.display()"
   ]
  },
  {
   "cell_type": "markdown",
   "metadata": {
    "application/vnd.databricks.v1+cell": {
     "cellMetadata": {
      "byteLimit": 2048000,
      "rowLimit": 10000
     },
     "inputWidgets": {},
     "nuid": "6ad3c5f4-ceb7-4e99-a087-0cfc0ed834d0",
     "showTitle": false,
     "title": ""
    }
   },
   "source": [
    "To visualise the dataframe as a pie chart, the dataframe needs to be reshaped to have 2 columns, one with the metric label and the other with the aggregated sum. This way the pie chart will have 2 entries; one for likes and one for dislikes."
   ]
  },
  {
   "cell_type": "code",
   "execution_count": 0,
   "metadata": {
    "application/vnd.databricks.v1+cell": {
     "cellMetadata": {
      "byteLimit": 2048000,
      "rowLimit": 10000
     },
     "inputWidgets": {},
     "nuid": "def9cf1c-7942-4652-84ae-504b3fe2e7d2",
     "showTitle": false,
     "title": ""
    }
   },
   "outputs": [],
   "source": [
    "summary_df = total_engagement_df.selectExpr(\"stack(2, 'Likes', `sum(likes)`, 'Dislikes', `sum(dislikes)`) as (Metric, Total)\")"
   ]
  },
  {
   "cell_type": "markdown",
   "metadata": {
    "application/vnd.databricks.v1+cell": {
     "cellMetadata": {
      "byteLimit": 2048000,
      "rowLimit": 10000
     },
     "inputWidgets": {},
     "nuid": "974e2e20-f120-4fea-85a9-b9561981e75b",
     "showTitle": false,
     "title": ""
    }
   },
   "source": [
    "Display the reshaped dataframe summary_df."
   ]
  },
  {
   "cell_type": "code",
   "execution_count": 0,
   "metadata": {
    "application/vnd.databricks.v1+cell": {
     "cellMetadata": {
      "byteLimit": 2048000,
      "rowLimit": 10000
     },
     "inputWidgets": {},
     "nuid": "b9f51b1b-8da5-4e2b-898a-c39d9ee8b2a9",
     "showTitle": false,
     "title": ""
    }
   },
   "outputs": [
    {
     "output_type": "display_data",
     "data": {
      "text/html": [
       "<style scoped>\n",
       "  .table-result-container {\n",
       "    max-height: 300px;\n",
       "    overflow: auto;\n",
       "  }\n",
       "  table, th, td {\n",
       "    border: 1px solid black;\n",
       "    border-collapse: collapse;\n",
       "  }\n",
       "  th, td {\n",
       "    padding: 5px;\n",
       "  }\n",
       "  th {\n",
       "    text-align: left;\n",
       "  }\n",
       "</style><div class='table-result-container'><table class='table-result'><thead style='background-color: white'><tr><th>Metric</th><th>Total</th></tr></thead><tbody><tr><td>Likes</td><td>5209935076</td></tr><tr><td>Dislikes</td><td>294684009</td></tr></tbody></table></div>"
      ]
     },
     "metadata": {
      "application/vnd.databricks.v1+output": {
       "addedWidgets": {},
       "aggData": [],
       "aggError": "",
       "aggOverflow": false,
       "aggSchema": [],
       "aggSeriesLimitReached": false,
       "aggType": "",
       "arguments": {},
       "columnCustomDisplayInfos": {},
       "data": [
        [
         "Likes",
         5209935076
        ],
        [
         "Dislikes",
         294684009
        ]
       ],
       "datasetInfos": [],
       "dbfsResultPath": null,
       "isJsonSchema": true,
       "metadata": {},
       "overflow": false,
       "plotOptions": {
        "customPlotOptions": {},
        "displayType": "table",
        "pivotAggregation": null,
        "pivotColumns": null,
        "xColumns": null,
        "yColumns": null
       },
       "removedWidgets": [],
       "schema": [
        {
         "metadata": "{}",
         "name": "Metric",
         "type": "\"string\""
        },
        {
         "metadata": "{}",
         "name": "Total",
         "type": "\"long\""
        }
       ],
       "type": "table"
      }
     },
     "output_type": "display_data"
    }
   ],
   "source": [
    "summary_df.display()"
   ]
  },
  {
   "cell_type": "markdown",
   "metadata": {
    "application/vnd.databricks.v1+cell": {
     "cellMetadata": {
      "byteLimit": 2048000,
      "rowLimit": 10000
     },
     "inputWidgets": {},
     "nuid": "d016db19-5e88-4cc7-9430-e69fd7c465a5",
     "showTitle": false,
     "title": ""
    }
   },
   "source": [
    "I will now display summary_df as a pie chart to visualise this data."
   ]
  },
  {
   "cell_type": "code",
   "execution_count": 0,
   "metadata": {
    "application/vnd.databricks.v1+cell": {
     "cellMetadata": {
      "byteLimit": 2048000,
      "rowLimit": 10000
     },
     "inputWidgets": {},
     "nuid": "056b92f8-478d-4085-afef-d6b294c13692",
     "showTitle": false,
     "title": ""
    }
   },
   "outputs": [
    {
     "output_type": "display_data",
     "data": {
      "text/html": [
       "<style scoped>\n",
       "  .table-result-container {\n",
       "    max-height: 300px;\n",
       "    overflow: auto;\n",
       "  }\n",
       "  table, th, td {\n",
       "    border: 1px solid black;\n",
       "    border-collapse: collapse;\n",
       "  }\n",
       "  th, td {\n",
       "    padding: 5px;\n",
       "  }\n",
       "  th {\n",
       "    text-align: left;\n",
       "  }\n",
       "</style><div class='table-result-container'><table class='table-result'><thead style='background-color: white'><tr><th>Metric</th><th>Total</th></tr></thead><tbody><tr><td>Likes</td><td>5209935076</td></tr><tr><td>Dislikes</td><td>294684009</td></tr></tbody></table></div>"
      ]
     },
     "metadata": {
      "application/vnd.databricks.v1+output": {
       "addedWidgets": {},
       "aggData": [],
       "aggError": "",
       "aggOverflow": false,
       "aggSchema": [],
       "aggSeriesLimitReached": false,
       "aggType": "",
       "arguments": {},
       "columnCustomDisplayInfos": {},
       "data": [
        [
         "Likes",
         5209935076
        ],
        [
         "Dislikes",
         294684009
        ]
       ],
       "datasetInfos": [],
       "dbfsResultPath": null,
       "isJsonSchema": true,
       "metadata": {},
       "overflow": false,
       "plotOptions": {
        "customPlotOptions": {},
        "displayType": "table",
        "pivotAggregation": null,
        "pivotColumns": null,
        "xColumns": null,
        "yColumns": null
       },
       "removedWidgets": [],
       "schema": [
        {
         "metadata": "{}",
         "name": "Metric",
         "type": "\"string\""
        },
        {
         "metadata": "{}",
         "name": "Total",
         "type": "\"long\""
        }
       ],
       "type": "table"
      }
     },
     "output_type": "display_data"
    },
    {
     "output_type": "display_data",
     "data": {
      "text/plain": [
       "Databricks visualization. Run in Databricks to view."
      ]
     },
     "metadata": {
      "application/vnd.databricks.v1.subcommand+json": {
       "baseErrorDetails": null,
       "bindings": {},
       "collapsed": false,
       "command": "%python\n__backend_agg_display_orig = display\n__backend_agg_dfs = []\ndef __backend_agg_display_new(df):\n    __backend_agg_df_modules = [\"pandas.core.frame\", \"databricks.koalas.frame\", \"pyspark.sql.dataframe\", \"pyspark.pandas.frame\", \"pyspark.sql.connect.dataframe\"]\n    if (type(df).__module__ in __backend_agg_df_modules and type(df).__name__ == 'DataFrame') or isinstance(df, list):\n        __backend_agg_dfs.append(df)\n\ndisplay = __backend_agg_display_new\n\ndef __backend_agg_user_code_fn():\n    import base64\n    exec(base64.standard_b64decode(\"c3VtbWFyeV9kZi5kaXNwbGF5KCk=\").decode())\n\ntry:\n    # run user code\n    __backend_agg_user_code_fn()\n\n    #reset display function\n    display = __backend_agg_display_orig\n\n    if len(__backend_agg_dfs) > 0:\n        # create a temp view\n        if type(__backend_agg_dfs[0]).__module__ == \"databricks.koalas.frame\":\n            # koalas dataframe\n            __backend_agg_dfs[0].to_spark().createOrReplaceTempView(\"DatabricksView56a15e0\")\n        elif type(__backend_agg_dfs[0]).__module__ == \"pandas.core.frame\" or isinstance(__backend_agg_dfs[0], list):\n            # pandas dataframe\n            spark.createDataFrame(__backend_agg_dfs[0]).createOrReplaceTempView(\"DatabricksView56a15e0\")\n        else:\n            __backend_agg_dfs[0].createOrReplaceTempView(\"DatabricksView56a15e0\")\n        #run backend agg\n        display(spark.sql(\"\"\"WITH q AS (select * from DatabricksView56a15e0) SELECT `Metric`,SUM(`Total`) `column_ab5937fd54` FROM q GROUP BY `Metric`\"\"\"))\n    else:\n        displayHTML(\"dataframe no longer exists. If you're using dataframe.display(), use display(dataframe) instead.\")\n\n\nfinally:\n    spark.sql(\"drop view if exists DatabricksView56a15e0\")\n    display = __backend_agg_display_orig\n    del __backend_agg_display_new\n    del __backend_agg_display_orig\n    del __backend_agg_dfs\n    del __backend_agg_user_code_fn\n\n",
       "commandTitle": "Proportion of likes, dislikes and comments for YouTube trending videos",
       "commandType": "auto",
       "commandVersion": 0,
       "commentThread": [],
       "commentsVisible": false,
       "contentSha256Hex": null,
       "customPlotOptions": {
        "redashChart": [
         {
          "key": "type",
          "value": "CHART"
         },
         {
          "key": "options",
          "value": {
           "alignYAxesAtZero": true,
           "coefficient": 1,
           "columnConfigurationMap": {
            "x": {
             "column": "Metric",
             "id": "column_ab5937fd53"
            },
            "y": [
             {
              "column": "Total",
              "id": "column_ab5937fd54",
              "transform": "SUM"
             }
            ]
           },
           "dateTimeFormat": "DD/MM/YYYY HH:mm",
           "direction": {
            "type": "counterclockwise"
           },
           "error_y": {
            "type": "data",
            "visible": true
           },
           "globalSeriesType": "pie",
           "isAggregationOn": true,
           "legend": {
            "traceorder": "normal"
           },
           "missingValuesAsZero": true,
           "numberFormat": "0,0.[00000]",
           "percentFormat": "0[.]00%",
           "series": {
            "error_y": {
             "type": "data",
             "visible": true
            },
            "stacking": null
           },
           "seriesOptions": {
            "column_ab5937fd54": {
             "name": "Total Number",
             "type": "pie",
             "yAxis": 0
            }
           },
           "showDataLabels": true,
           "sizemode": "diameter",
           "sortX": true,
           "sortY": true,
           "swappedAxes": false,
           "textFormat": "",
           "useAggregationsUi": true,
           "valuesOptions": {},
           "version": 2,
           "xAxis": {
            "labels": {
             "enabled": true
            },
            "type": "-"
           },
           "yAxis": [
            {
             "type": "-"
            },
            {
             "opposite": true,
             "type": "-"
            }
           ]
          }
         }
        ]
       },
       "datasetPreviewNameToCmdIdMap": {},
       "diffDeletes": [],
       "diffInserts": [],
       "displayType": "redashChart",
       "error": null,
       "errorDetails": null,
       "errorSummary": null,
       "errorTraceType": null,
       "finishTime": 0,
       "globalVars": {},
       "guid": "",
       "height": "auto",
       "hideCommandCode": false,
       "hideCommandResult": false,
       "iPythonMetadata": null,
       "inputWidgets": {},
       "isLockedInExamMode": false,
       "latestUser": "a user",
       "latestUserId": null,
       "listResultMetadata": null,
       "metadata": {
        "byteLimit": 2048000,
        "rowLimit": 10000
       },
       "nuid": "2e65c178-5087-467c-9ac9-052efd4dc57a",
       "origId": 0,
       "parentHierarchy": [],
       "pivotAggregation": null,
       "pivotColumns": null,
       "position": 60.9375,
       "resultDbfsErrorMessage": null,
       "resultDbfsStatus": "INLINED_IN_TREE",
       "results": null,
       "showCommandTitle": false,
       "startTime": 0,
       "state": "finished",
       "streamStates": {},
       "subcommandOptions": {
        "queryPlan": {
         "groups": [
          {
           "column": "Metric",
           "type": "column"
          }
         ],
         "selects": [
          {
           "column": "Metric",
           "type": "column"
          },
          {
           "alias": "column_ab5937fd54",
           "args": [
            {
             "column": "Total",
             "type": "column"
            }
           ],
           "function": "SUM",
           "type": "function"
          }
         ]
        }
       },
       "submitTime": 0,
       "subtype": "tableResultSubCmd.visualization",
       "tableResultIndex": 0,
       "useConsistentColors": false,
       "version": "CommandV1",
       "width": "auto",
       "workflows": [],
       "xColumns": null,
       "yColumns": null
      }
     },
     "output_type": "display_data"
    }
   ],
   "source": [
    "summary_df.display()"
   ]
  },
  {
   "cell_type": "markdown",
   "metadata": {
    "application/vnd.databricks.v1+cell": {
     "cellMetadata": {
      "byteLimit": 2048000,
      "rowLimit": 10000
     },
     "inputWidgets": {},
     "nuid": "f31cb29e-bd14-42a3-9f49-018cca4c6eb8",
     "showTitle": false,
     "title": ""
    }
   },
   "source": [
    "This can be more useful by grouping the categories in and analysing these metric per category."
   ]
  },
  {
   "cell_type": "markdown",
   "metadata": {
    "application/vnd.databricks.v1+cell": {
     "cellMetadata": {
      "byteLimit": 2048000,
      "rowLimit": 10000
     },
     "inputWidgets": {},
     "nuid": "8bf2be51-d537-47e8-b3c8-dadc39d65ecc",
     "showTitle": false,
     "title": ""
    }
   },
   "source": [
    "I will create a new dataframe with the engagment data per category and display the first 5 rows."
   ]
  },
  {
   "cell_type": "code",
   "execution_count": 0,
   "metadata": {
    "application/vnd.databricks.v1+cell": {
     "cellMetadata": {
      "byteLimit": 2048000,
      "rowLimit": 10000
     },
     "inputWidgets": {},
     "nuid": "46620ae2-c038-44bd-8ab5-801bfac072d2",
     "showTitle": false,
     "title": ""
    }
   },
   "outputs": [
    {
     "output_type": "display_data",
     "data": {
      "text/html": [
       "<style scoped>\n",
       "  .table-result-container {\n",
       "    max-height: 300px;\n",
       "    overflow: auto;\n",
       "  }\n",
       "  table, th, td {\n",
       "    border: 1px solid black;\n",
       "    border-collapse: collapse;\n",
       "  }\n",
       "  th, td {\n",
       "    padding: 5px;\n",
       "  }\n",
       "  th {\n",
       "    text-align: left;\n",
       "  }\n",
       "</style><div class='table-result-container'><table class='table-result'><thead style='background-color: white'><tr><th>category_title</th><th>likes</th><th>dislikes</th></tr></thead><tbody><tr><td>News & Politics</td><td>30</td><td>2</td></tr><tr><td>Music</td><td>787420</td><td>43420</td></tr><tr><td>Howto & Style</td><td>55681</td><td>10247</td></tr><tr><td>Sports</td><td>193</td><td>12</td></tr><tr><td>Entertainment</td><td>25561</td><td>2294</td></tr></tbody></table></div>"
      ]
     },
     "metadata": {
      "application/vnd.databricks.v1+output": {
       "addedWidgets": {},
       "aggData": [],
       "aggError": "",
       "aggOverflow": false,
       "aggSchema": [],
       "aggSeriesLimitReached": false,
       "aggType": "",
       "arguments": {},
       "columnCustomDisplayInfos": {},
       "data": [
        [
         "News & Politics",
         30,
         2
        ],
        [
         "Music",
         787420,
         43420
        ],
        [
         "Howto & Style",
         55681,
         10247
        ],
        [
         "Sports",
         193,
         12
        ],
        [
         "Entertainment",
         25561,
         2294
        ]
       ],
       "datasetInfos": [],
       "dbfsResultPath": null,
       "isJsonSchema": true,
       "metadata": {},
       "overflow": false,
       "plotOptions": {
        "customPlotOptions": {},
        "displayType": "table",
        "pivotAggregation": null,
        "pivotColumns": null,
        "xColumns": null,
        "yColumns": null
       },
       "removedWidgets": [],
       "schema": [
        {
         "metadata": "{}",
         "name": "category_title",
         "type": "\"string\""
        },
        {
         "metadata": "{}",
         "name": "likes",
         "type": "\"integer\""
        },
        {
         "metadata": "{}",
         "name": "dislikes",
         "type": "\"integer\""
        }
       ],
       "type": "table"
      }
     },
     "output_type": "display_data"
    }
   ],
   "source": [
    "engagement_per_category_df = joined_df.select(\"category_title\", \"likes\", \"dislikes\")\n",
    "engagement_per_category_df.limit(5).display()"
   ]
  },
  {
   "cell_type": "markdown",
   "metadata": {
    "application/vnd.databricks.v1+cell": {
     "cellMetadata": {
      "byteLimit": 2048000,
      "rowLimit": 10000
     },
     "inputWidgets": {},
     "nuid": "4ea072ec-5189-4aa6-a787-1ee438fe026a",
     "showTitle": false,
     "title": ""
    }
   },
   "source": [
    "Group by category and aggregate metrics."
   ]
  },
  {
   "cell_type": "code",
   "execution_count": 0,
   "metadata": {
    "application/vnd.databricks.v1+cell": {
     "cellMetadata": {
      "byteLimit": 2048000,
      "rowLimit": 10000
     },
     "inputWidgets": {},
     "nuid": "7e002eec-4635-4f79-9db4-3a03d6e17b78",
     "showTitle": false,
     "title": ""
    }
   },
   "outputs": [],
   "source": [
    "total_category_engagement_df = engagement_per_category_df.groupBy(\"category_title\").agg({\"likes\": \"sum\", \"dislikes\": \"sum\"})"
   ]
  },
  {
   "cell_type": "markdown",
   "metadata": {
    "application/vnd.databricks.v1+cell": {
     "cellMetadata": {
      "byteLimit": 2048000,
      "rowLimit": 10000
     },
     "inputWidgets": {},
     "nuid": "a4ff1c78-2a7f-4bb2-955f-b022d55cfab7",
     "showTitle": false,
     "title": ""
    }
   },
   "source": [
    "Display the new dataframe total_category_engagement_df"
   ]
  },
  {
   "cell_type": "code",
   "execution_count": 0,
   "metadata": {
    "application/vnd.databricks.v1+cell": {
     "cellMetadata": {
      "byteLimit": 2048000,
      "rowLimit": 10000
     },
     "inputWidgets": {},
     "nuid": "5aed661e-d12e-4523-8747-6dbee15c7413",
     "showTitle": false,
     "title": ""
    }
   },
   "outputs": [
    {
     "output_type": "display_data",
     "data": {
      "text/html": [
       "<style scoped>\n",
       "  .table-result-container {\n",
       "    max-height: 300px;\n",
       "    overflow: auto;\n",
       "  }\n",
       "  table, th, td {\n",
       "    border: 1px solid black;\n",
       "    border-collapse: collapse;\n",
       "  }\n",
       "  th, td {\n",
       "    padding: 5px;\n",
       "  }\n",
       "  th {\n",
       "    text-align: left;\n",
       "  }\n",
       "</style><div class='table-result-container'><table class='table-result'><thead style='background-color: white'><tr><th>category_title</th><th>sum(dislikes)</th><th>sum(likes)</th></tr></thead><tbody><tr><td>Shows</td><td>6396</td><td>836738</td></tr><tr><td>Education</td><td>593153</td><td>17567394</td></tr><tr><td>Gaming</td><td>2300570</td><td>69986551</td></tr><tr><td>Entertainment</td><td>87571107</td><td>740404673</td></tr><tr><td>Travel & Events</td><td>34715</td><td>928747</td></tr><tr><td>Science & Technology</td><td>1617567</td><td>31717898</td></tr><tr><td>Sports</td><td>9912215</td><td>74833628</td></tr><tr><td>null</td><td>5436854</td><td>24452616</td></tr><tr><td>Howto & Style</td><td>1607193</td><td>51360345</td></tr><tr><td>Film & Animation</td><td>6152108</td><td>146549676</td></tr><tr><td>People & Blogs</td><td>11979739</td><td>135181773</td></tr><tr><td>News & Politics</td><td>3760643</td><td>30353905</td></tr><tr><td>Pets & Animals</td><td>363657</td><td>15194473</td></tr><tr><td>Autos & Vehicles</td><td>281190</td><td>3543625</td></tr><tr><td>Music</td><td>158454494</td><td>3724122394</td></tr><tr><td>Comedy</td><td>4612408</td><td>142900640</td></tr></tbody></table></div>"
      ]
     },
     "metadata": {
      "application/vnd.databricks.v1+output": {
       "addedWidgets": {},
       "aggData": [],
       "aggError": "",
       "aggOverflow": false,
       "aggSchema": [],
       "aggSeriesLimitReached": false,
       "aggType": "",
       "arguments": {},
       "columnCustomDisplayInfos": {},
       "data": [
        [
         "Shows",
         6396,
         836738
        ],
        [
         "Education",
         593153,
         17567394
        ],
        [
         "Gaming",
         2300570,
         69986551
        ],
        [
         "Entertainment",
         87571107,
         740404673
        ],
        [
         "Travel & Events",
         34715,
         928747
        ],
        [
         "Science & Technology",
         1617567,
         31717898
        ],
        [
         "Sports",
         9912215,
         74833628
        ],
        [
         null,
         5436854,
         24452616
        ],
        [
         "Howto & Style",
         1607193,
         51360345
        ],
        [
         "Film & Animation",
         6152108,
         146549676
        ],
        [
         "People & Blogs",
         11979739,
         135181773
        ],
        [
         "News & Politics",
         3760643,
         30353905
        ],
        [
         "Pets & Animals",
         363657,
         15194473
        ],
        [
         "Autos & Vehicles",
         281190,
         3543625
        ],
        [
         "Music",
         158454494,
         3724122394
        ],
        [
         "Comedy",
         4612408,
         142900640
        ]
       ],
       "datasetInfos": [],
       "dbfsResultPath": null,
       "isJsonSchema": true,
       "metadata": {},
       "overflow": false,
       "plotOptions": {
        "customPlotOptions": {},
        "displayType": "table",
        "pivotAggregation": null,
        "pivotColumns": null,
        "xColumns": null,
        "yColumns": null
       },
       "removedWidgets": [],
       "schema": [
        {
         "metadata": "{}",
         "name": "category_title",
         "type": "\"string\""
        },
        {
         "metadata": "{}",
         "name": "sum(dislikes)",
         "type": "\"long\""
        },
        {
         "metadata": "{}",
         "name": "sum(likes)",
         "type": "\"long\""
        }
       ],
       "type": "table"
      }
     },
     "output_type": "display_data"
    }
   ],
   "source": [
    "total_category_engagement_df.display()"
   ]
  },
  {
   "cell_type": "markdown",
   "metadata": {
    "application/vnd.databricks.v1+cell": {
     "cellMetadata": {},
     "inputWidgets": {},
     "nuid": "80776a8e-f40a-4343-aca3-a212c1db8a6b",
     "showTitle": false,
     "title": ""
    }
   },
   "source": [
    "I colud visualise the data as it currently stands, but to take it one step further, I will take the likes and dislikes as percentages and analyse these."
   ]
  },
  {
   "cell_type": "markdown",
   "metadata": {
    "application/vnd.databricks.v1+cell": {
     "cellMetadata": {},
     "inputWidgets": {},
     "nuid": "8bd2433d-5170-4536-9aea-1145e0e8fbd9",
     "showTitle": false,
     "title": ""
    }
   },
   "source": [
    "To do this, I will first need to calculate the total sum of likes and dislikes per category and add this in as a column."
   ]
  },
  {
   "cell_type": "code",
   "execution_count": 0,
   "metadata": {
    "application/vnd.databricks.v1+cell": {
     "cellMetadata": {
      "byteLimit": 2048000,
      "rowLimit": 10000
     },
     "inputWidgets": {},
     "nuid": "85b9b398-f2c2-4fb5-b4a7-4aea5c9c4458",
     "showTitle": false,
     "title": ""
    }
   },
   "outputs": [],
   "source": [
    "new_category_engagement_df = total_category_engagement_df.withColumn(\"total_likes_and_dislikes\", total_category_engagement_df[\"sum(likes)\"] + total_category_engagement_df[\"sum(dislikes)\"])"
   ]
  },
  {
   "cell_type": "markdown",
   "metadata": {
    "application/vnd.databricks.v1+cell": {
     "cellMetadata": {},
     "inputWidgets": {},
     "nuid": "9a430360-de32-4b6f-a724-b0e41db2392d",
     "showTitle": false,
     "title": ""
    }
   },
   "source": [
    "I will use the total likes and dislikes column to calculate percentages for the likes and dislikes and add these in as their own respective columns. "
   ]
  },
  {
   "cell_type": "code",
   "execution_count": 0,
   "metadata": {
    "application/vnd.databricks.v1+cell": {
     "cellMetadata": {
      "byteLimit": 2048000,
      "rowLimit": 10000
     },
     "inputWidgets": {},
     "nuid": "63bf4ab4-8218-4457-84d9-8eedb7a40720",
     "showTitle": false,
     "title": ""
    }
   },
   "outputs": [],
   "source": [
    "\n",
    "total_percentage_category_engagement_df = new_category_engagement_df.withColumn(\"percentage_likes\", (new_category_engagement_df[\"sum(likes)\"] / new_category_engagement_df[\"total_likes_and_dislikes\"]) * 100)\\\n",
    "  .withColumn(\"percentage_dislikes\", (new_category_engagement_df[\"sum(dislikes)\"] / new_category_engagement_df[\"total_likes_and_dislikes\"]) * 100)\n",
    "\n"
   ]
  },
  {
   "cell_type": "markdown",
   "metadata": {
    "application/vnd.databricks.v1+cell": {
     "cellMetadata": {},
     "inputWidgets": {},
     "nuid": "67e505b2-1e1f-4ab9-8a3f-223ac45a7c43",
     "showTitle": false,
     "title": ""
    }
   },
   "source": [
    "Display the new dataframe total_percentage_engagement_df."
   ]
  },
  {
   "cell_type": "code",
   "execution_count": 0,
   "metadata": {
    "application/vnd.databricks.v1+cell": {
     "cellMetadata": {
      "byteLimit": 2048000,
      "rowLimit": 10000
     },
     "inputWidgets": {},
     "nuid": "7d713896-af9f-43ac-9a8f-bf1b93945f6f",
     "showTitle": false,
     "title": ""
    }
   },
   "outputs": [
    {
     "output_type": "display_data",
     "data": {
      "text/html": [
       "<style scoped>\n",
       "  .table-result-container {\n",
       "    max-height: 300px;\n",
       "    overflow: auto;\n",
       "  }\n",
       "  table, th, td {\n",
       "    border: 1px solid black;\n",
       "    border-collapse: collapse;\n",
       "  }\n",
       "  th, td {\n",
       "    padding: 5px;\n",
       "  }\n",
       "  th {\n",
       "    text-align: left;\n",
       "  }\n",
       "</style><div class='table-result-container'><table class='table-result'><thead style='background-color: white'><tr><th>category_title</th><th>sum(dislikes)</th><th>sum(likes)</th><th>total_likes_and_dislikes</th><th>percentage_likes</th><th>percentage_dislikes</th></tr></thead><tbody><tr><td>Shows</td><td>6396</td><td>836738</td><td>843134</td><td>99.24140172262061</td><td>0.7585982773793963</td></tr><tr><td>Education</td><td>593153</td><td>17567394</td><td>18160547</td><td>96.73383736734361</td><td>3.2661626326563846</td></tr><tr><td>Gaming</td><td>2300570</td><td>69986551</td><td>72287121</td><td>96.81745521446345</td><td>3.182544785536555</td></tr><tr><td>Entertainment</td><td>87571107</td><td>740404673</td><td>827975780</td><td>89.42346997154917</td><td>10.576530028450833</td></tr><tr><td>Travel & Events</td><td>34715</td><td>928747</td><td>963462</td><td>96.39684803344605</td><td>3.6031519665539484</td></tr></tbody></table></div>"
      ]
     },
     "metadata": {
      "application/vnd.databricks.v1+output": {
       "addedWidgets": {},
       "aggData": [],
       "aggError": "",
       "aggOverflow": false,
       "aggSchema": [],
       "aggSeriesLimitReached": false,
       "aggType": "",
       "arguments": {},
       "columnCustomDisplayInfos": {},
       "data": [
        [
         "Shows",
         6396,
         836738,
         843134,
         99.24140172262061,
         0.7585982773793963
        ],
        [
         "Education",
         593153,
         17567394,
         18160547,
         96.73383736734361,
         3.2661626326563846
        ],
        [
         "Gaming",
         2300570,
         69986551,
         72287121,
         96.81745521446345,
         3.182544785536555
        ],
        [
         "Entertainment",
         87571107,
         740404673,
         827975780,
         89.42346997154917,
         10.576530028450833
        ],
        [
         "Travel & Events",
         34715,
         928747,
         963462,
         96.39684803344605,
         3.6031519665539484
        ]
       ],
       "datasetInfos": [],
       "dbfsResultPath": null,
       "isJsonSchema": true,
       "metadata": {},
       "overflow": false,
       "plotOptions": {
        "customPlotOptions": {},
        "displayType": "table",
        "pivotAggregation": null,
        "pivotColumns": null,
        "xColumns": null,
        "yColumns": null
       },
       "removedWidgets": [],
       "schema": [
        {
         "metadata": "{}",
         "name": "category_title",
         "type": "\"string\""
        },
        {
         "metadata": "{}",
         "name": "sum(dislikes)",
         "type": "\"long\""
        },
        {
         "metadata": "{}",
         "name": "sum(likes)",
         "type": "\"long\""
        },
        {
         "metadata": "{}",
         "name": "total_likes_and_dislikes",
         "type": "\"long\""
        },
        {
         "metadata": "{}",
         "name": "percentage_likes",
         "type": "\"double\""
        },
        {
         "metadata": "{}",
         "name": "percentage_dislikes",
         "type": "\"double\""
        }
       ],
       "type": "table"
      }
     },
     "output_type": "display_data"
    }
   ],
   "source": [
    "total_percentage_category_engagement_df.limit(5).display()"
   ]
  },
  {
   "cell_type": "code",
   "execution_count": 0,
   "metadata": {
    "application/vnd.databricks.v1+cell": {
     "cellMetadata": {
      "byteLimit": 2048000,
      "rowLimit": 10000
     },
     "inputWidgets": {},
     "nuid": "1b7765b6-dc8f-4069-88f4-dc434b1f19e0",
     "showTitle": false,
     "title": ""
    }
   },
   "outputs": [
    {
     "output_type": "display_data",
     "data": {
      "text/html": [
       "<style scoped>\n",
       "  .table-result-container {\n",
       "    max-height: 300px;\n",
       "    overflow: auto;\n",
       "  }\n",
       "  table, th, td {\n",
       "    border: 1px solid black;\n",
       "    border-collapse: collapse;\n",
       "  }\n",
       "  th, td {\n",
       "    padding: 5px;\n",
       "  }\n",
       "  th {\n",
       "    text-align: left;\n",
       "  }\n",
       "</style><div class='table-result-container'><table class='table-result'><thead style='background-color: white'><tr><th>category_title</th><th>sum(dislikes)</th><th>sum(likes)</th><th>total_likes_and_dislikes</th><th>percentage_likes</th><th>percentage_dislikes</th></tr></thead><tbody><tr><td>Shows</td><td>6396</td><td>836738</td><td>843134</td><td>99.24140172262061</td><td>0.7585982773793963</td></tr><tr><td>Education</td><td>593153</td><td>17567394</td><td>18160547</td><td>96.73383736734361</td><td>3.2661626326563846</td></tr><tr><td>Gaming</td><td>2300570</td><td>69986551</td><td>72287121</td><td>96.81745521446345</td><td>3.182544785536555</td></tr><tr><td>Entertainment</td><td>87571107</td><td>740404673</td><td>827975780</td><td>89.42346997154917</td><td>10.576530028450833</td></tr><tr><td>Travel & Events</td><td>34715</td><td>928747</td><td>963462</td><td>96.39684803344605</td><td>3.6031519665539484</td></tr><tr><td>Science & Technology</td><td>1617567</td><td>31717898</td><td>33335465</td><td>95.1476093103846</td><td>4.852390689615399</td></tr><tr><td>Sports</td><td>9912215</td><td>74833628</td><td>84745843</td><td>88.30359738117184</td><td>11.696402618828158</td></tr><tr><td>null</td><td>5436854</td><td>24452616</td><td>29889470</td><td>81.81013581037068</td><td>18.189864189629322</td></tr><tr><td>Howto & Style</td><td>1607193</td><td>51360345</td><td>52967538</td><td>96.96570189839672</td><td>3.0342981016032877</td></tr><tr><td>Film & Animation</td><td>6152108</td><td>146549676</td><td>152701784</td><td>95.97116167287214</td><td>4.028838327127861</td></tr><tr><td>People & Blogs</td><td>11979739</td><td>135181773</td><td>147161512</td><td>91.85946186799168</td><td>8.14053813200832</td></tr><tr><td>News & Politics</td><td>3760643</td><td>30353905</td><td>34114548</td><td>88.97642436886457</td><td>11.023575631135433</td></tr><tr><td>Pets & Animals</td><td>363657</td><td>15194473</td><td>15558130</td><td>97.6625918410503</td><td>2.337408158949694</td></tr><tr><td>Autos & Vehicles</td><td>281190</td><td>3543625</td><td>3824815</td><td>92.6482718772019</td><td>7.351728122798096</td></tr><tr><td>Music</td><td>158454494</td><td>3724122394</td><td>3882576888</td><td>95.91883178180605</td><td>4.081168218193958</td></tr><tr><td>Comedy</td><td>4612408</td><td>142900640</td><td>147513048</td><td>96.87322032692322</td><td>3.126779673076784</td></tr></tbody></table></div>"
      ]
     },
     "metadata": {
      "application/vnd.databricks.v1+output": {
       "addedWidgets": {},
       "aggData": [],
       "aggError": "",
       "aggOverflow": false,
       "aggSchema": [],
       "aggSeriesLimitReached": false,
       "aggType": "",
       "arguments": {},
       "columnCustomDisplayInfos": {},
       "data": [
        [
         "Shows",
         6396,
         836738,
         843134,
         99.24140172262061,
         0.7585982773793963
        ],
        [
         "Education",
         593153,
         17567394,
         18160547,
         96.73383736734361,
         3.2661626326563846
        ],
        [
         "Gaming",
         2300570,
         69986551,
         72287121,
         96.81745521446345,
         3.182544785536555
        ],
        [
         "Entertainment",
         87571107,
         740404673,
         827975780,
         89.42346997154917,
         10.576530028450833
        ],
        [
         "Travel & Events",
         34715,
         928747,
         963462,
         96.39684803344605,
         3.6031519665539484
        ],
        [
         "Science & Technology",
         1617567,
         31717898,
         33335465,
         95.1476093103846,
         4.852390689615399
        ],
        [
         "Sports",
         9912215,
         74833628,
         84745843,
         88.30359738117184,
         11.696402618828158
        ],
        [
         null,
         5436854,
         24452616,
         29889470,
         81.81013581037068,
         18.189864189629322
        ],
        [
         "Howto & Style",
         1607193,
         51360345,
         52967538,
         96.96570189839672,
         3.0342981016032877
        ],
        [
         "Film & Animation",
         6152108,
         146549676,
         152701784,
         95.97116167287214,
         4.028838327127861
        ],
        [
         "People & Blogs",
         11979739,
         135181773,
         147161512,
         91.85946186799168,
         8.14053813200832
        ],
        [
         "News & Politics",
         3760643,
         30353905,
         34114548,
         88.97642436886457,
         11.023575631135433
        ],
        [
         "Pets & Animals",
         363657,
         15194473,
         15558130,
         97.6625918410503,
         2.337408158949694
        ],
        [
         "Autos & Vehicles",
         281190,
         3543625,
         3824815,
         92.6482718772019,
         7.351728122798096
        ],
        [
         "Music",
         158454494,
         3724122394,
         3882576888,
         95.91883178180605,
         4.081168218193958
        ],
        [
         "Comedy",
         4612408,
         142900640,
         147513048,
         96.87322032692322,
         3.126779673076784
        ]
       ],
       "datasetInfos": [],
       "dbfsResultPath": null,
       "isJsonSchema": true,
       "metadata": {},
       "overflow": false,
       "plotOptions": {
        "customPlotOptions": {},
        "displayType": "table",
        "pivotAggregation": null,
        "pivotColumns": null,
        "xColumns": null,
        "yColumns": null
       },
       "removedWidgets": [],
       "schema": [
        {
         "metadata": "{}",
         "name": "category_title",
         "type": "\"string\""
        },
        {
         "metadata": "{}",
         "name": "sum(dislikes)",
         "type": "\"long\""
        },
        {
         "metadata": "{}",
         "name": "sum(likes)",
         "type": "\"long\""
        },
        {
         "metadata": "{}",
         "name": "total_likes_and_dislikes",
         "type": "\"long\""
        },
        {
         "metadata": "{}",
         "name": "percentage_likes",
         "type": "\"double\""
        },
        {
         "metadata": "{}",
         "name": "percentage_dislikes",
         "type": "\"double\""
        }
       ],
       "type": "table"
      }
     },
     "output_type": "display_data"
    },
    {
     "output_type": "display_data",
     "data": {
      "text/plain": [
       "Databricks visualization. Run in Databricks to view."
      ]
     },
     "metadata": {
      "application/vnd.databricks.v1.subcommand+json": {
       "baseErrorDetails": null,
       "bindings": {},
       "collapsed": false,
       "command": "%python\n__backend_agg_display_orig = display\n__backend_agg_dfs = []\ndef __backend_agg_display_new(df):\n    __backend_agg_df_modules = [\"pandas.core.frame\", \"databricks.koalas.frame\", \"pyspark.sql.dataframe\", \"pyspark.pandas.frame\", \"pyspark.sql.connect.dataframe\"]\n    if (type(df).__module__ in __backend_agg_df_modules and type(df).__name__ == 'DataFrame') or isinstance(df, list):\n        __backend_agg_dfs.append(df)\n\ndisplay = __backend_agg_display_new\n\ndef __backend_agg_user_code_fn():\n    import base64\n    exec(base64.standard_b64decode(\"dG90YWxfcGVyY2VudGFnZV9jYXRlZ29yeV9lbmdhZ2VtZW50X2RmLmRpc3BsYXkoKQ==\").decode())\n\ntry:\n    # run user code\n    __backend_agg_user_code_fn()\n\n    #reset display function\n    display = __backend_agg_display_orig\n\n    if len(__backend_agg_dfs) > 0:\n        # create a temp view\n        if type(__backend_agg_dfs[0]).__module__ == \"databricks.koalas.frame\":\n            # koalas dataframe\n            __backend_agg_dfs[0].to_spark().createOrReplaceTempView(\"DatabricksViewe4b155a\")\n        elif type(__backend_agg_dfs[0]).__module__ == \"pandas.core.frame\" or isinstance(__backend_agg_dfs[0], list):\n            # pandas dataframe\n            spark.createDataFrame(__backend_agg_dfs[0]).createOrReplaceTempView(\"DatabricksViewe4b155a\")\n        else:\n            __backend_agg_dfs[0].createOrReplaceTempView(\"DatabricksViewe4b155a\")\n        #run backend agg\n        display(spark.sql(\"\"\"WITH q AS (select * from DatabricksViewe4b155a) SELECT `category_title`,SUM(`percentage_likes`) `column_ab5937fd123`,SUM(`percentage_dislikes`) `column_ab5937fd126` FROM q GROUP BY `category_title`\"\"\"))\n    else:\n        displayHTML(\"dataframe no longer exists. If you're using dataframe.display(), use display(dataframe) instead.\")\n\n\nfinally:\n    spark.sql(\"drop view if exists DatabricksViewe4b155a\")\n    display = __backend_agg_display_orig\n    del __backend_agg_display_new\n    del __backend_agg_display_orig\n    del __backend_agg_dfs\n    del __backend_agg_user_code_fn\n\n",
       "commandTitle": "Percentage of likes and dislikes per category",
       "commandType": "auto",
       "commandVersion": 0,
       "commentThread": [],
       "commentsVisible": false,
       "contentSha256Hex": null,
       "customPlotOptions": {
        "redashChart": [
         {
          "key": "type",
          "value": "CHART"
         },
         {
          "key": "options",
          "value": {
           "alignYAxesAtZero": true,
           "coefficient": 1,
           "columnConfigurationMap": {
            "x": {
             "column": "category_title",
             "id": "column_ab5937fd121"
            },
            "y": [
             {
              "column": "percentage_likes",
              "id": "column_ab5937fd123",
              "transform": "SUM"
             },
             {
              "column": "percentage_dislikes",
              "id": "column_ab5937fd126",
              "transform": "SUM"
             }
            ]
           },
           "dateTimeFormat": "DD/MM/YYYY HH:mm",
           "direction": {
            "type": "counterclockwise"
           },
           "error_y": {
            "type": "data",
            "visible": true
           },
           "globalSeriesType": "column",
           "isAggregationOn": true,
           "legend": {
            "traceorder": "normal"
           },
           "missingValuesAsZero": true,
           "numberFormat": "0,0.[00000]",
           "percentFormat": "0[.]00%",
           "series": {
            "error_y": {
             "type": "data",
             "visible": true
            },
            "stacking": null
           },
           "seriesOptions": {
            "column_ab5937fd123": {
             "type": "column",
             "yAxis": 0
            },
            "column_ab5937fd126": {
             "type": "column",
             "yAxis": 0
            }
           },
           "showDataLabels": false,
           "sizemode": "diameter",
           "sortX": true,
           "sortY": true,
           "swappedAxes": false,
           "textFormat": "",
           "useAggregationsUi": true,
           "valuesOptions": {},
           "version": 2,
           "xAxis": {
            "labels": {
             "enabled": true
            },
            "title": {
             "text": "Category Title"
            },
            "type": "-"
           },
           "yAxis": [
            {
             "title": {
              "text": "Percentage"
             },
             "type": "-"
            },
            {
             "opposite": true,
             "type": "-"
            }
           ]
          }
         }
        ]
       },
       "datasetPreviewNameToCmdIdMap": {},
       "diffDeletes": [],
       "diffInserts": [],
       "displayType": "redashChart",
       "error": null,
       "errorDetails": null,
       "errorSummary": null,
       "errorTraceType": null,
       "finishTime": 0,
       "globalVars": {},
       "guid": "",
       "height": "auto",
       "hideCommandCode": false,
       "hideCommandResult": false,
       "iPythonMetadata": null,
       "inputWidgets": {},
       "isLockedInExamMode": false,
       "latestUser": "a user",
       "latestUserId": null,
       "listResultMetadata": null,
       "metadata": {},
       "nuid": "652bc7b8-445a-4dd8-86fd-f4223b84c3ad",
       "origId": 0,
       "parentHierarchy": [],
       "pivotAggregation": null,
       "pivotColumns": null,
       "position": 73.0,
       "resultDbfsErrorMessage": null,
       "resultDbfsStatus": "INLINED_IN_TREE",
       "results": null,
       "showCommandTitle": false,
       "startTime": 0,
       "state": "input",
       "streamStates": {},
       "subcommandOptions": {
        "queryPlan": {
         "groups": [
          {
           "column": "category_title",
           "type": "column"
          }
         ],
         "selects": [
          {
           "column": "category_title",
           "type": "column"
          },
          {
           "alias": "column_ab5937fd123",
           "args": [
            {
             "column": "percentage_likes",
             "type": "column"
            }
           ],
           "function": "SUM",
           "type": "function"
          },
          {
           "alias": "column_ab5937fd126",
           "args": [
            {
             "column": "percentage_dislikes",
             "type": "column"
            }
           ],
           "function": "SUM",
           "type": "function"
          }
         ]
        }
       },
       "submitTime": 0,
       "subtype": "tableResultSubCmd.visualization",
       "tableResultIndex": 0,
       "useConsistentColors": false,
       "version": "CommandV1",
       "width": "auto",
       "workflows": [],
       "xColumns": null,
       "yColumns": null
      }
     },
     "output_type": "display_data"
    }
   ],
   "source": [
    "total_percentage_category_engagement_df.display()"
   ]
  },
  {
   "cell_type": "markdown",
   "metadata": {
    "application/vnd.databricks.v1+cell": {
     "cellMetadata": {},
     "inputWidgets": {},
     "nuid": "7b335d28-5fe2-482e-8e71-e3e020c2b3e4",
     "showTitle": false,
     "title": ""
    }
   },
   "source": [
    "#### Conclusion"
   ]
  },
  {
   "cell_type": "markdown",
   "metadata": {
    "application/vnd.databricks.v1+cell": {
     "cellMetadata": {},
     "inputWidgets": {},
     "nuid": "6bb99c6a-770b-4503-b1ea-a00507b64373",
     "showTitle": false,
     "title": ""
    }
   },
   "source": [
    "The pie chart shows that the majority of YouTube trending videos are liked at 94.65% and only 5.35% are disliked. Looking into the specific categories, Shows have the highest percentage of likes (and lowest percentage of dislikes) whereas Sports has the highest percentage of dislikes (and lowest percentage of likes). This information is highly valuable to new content creators starting on YouTube. New content creators looking to make videos can choose these categories like Shows with a high like percentage and avoid disliked catgeories. By doing this, more likes on their videos will occur as their content is catered toward that category. Higher likes can lead to increased views as Youtube can push the video to the recommened pages of the category which leads to higher ad revenue for the creators."
   ]
  },
  {
   "cell_type": "code",
   "execution_count": 0,
   "metadata": {
    "application/vnd.databricks.v1+cell": {
     "cellMetadata": {},
     "inputWidgets": {},
     "nuid": "beb14f6c-a1cd-4b3e-a86d-aaf260133ecc",
     "showTitle": false,
     "title": ""
    }
   },
   "outputs": [],
   "source": []
  }
 ],
 "metadata": {
  "application/vnd.databricks.v1+notebook": {
   "dashboards": [
    {
     "elements": [
      {
       "dashboardResultIndex": 0,
       "elementNUID": "6f08d0a6-7e5e-4393-a9c3-2a795ea50997",
       "elementType": "command",
       "guid": "e1a802d9-ab64-4c3d-b998-104e46b3b1b5",
       "options": null,
       "position": {
        "height": 7,
        "width": 23,
        "x": 1,
        "y": 0,
        "z": null
       },
       "resultIndex": null
      }
     ],
     "globalVars": {},
     "guid": "",
     "layoutOption": {
      "grid": true,
      "stack": true
     },
     "nuid": "7eb6df5d-d6ac-4caf-99f0-f142b640dea1",
     "origId": 2708792233206106,
     "title": "Untitled",
     "version": "DashboardViewV1",
     "width": 1024
    }
   ],
   "language": "python",
   "notebookMetadata": {
    "pythonIndentUnit": 4
   },
   "notebookName": "SparkMiniProject",
   "widgets": {}
  }
 },
 "nbformat": 4,
 "nbformat_minor": 0
}
